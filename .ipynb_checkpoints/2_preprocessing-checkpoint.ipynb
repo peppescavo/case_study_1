{
 "cells": [
  {
   "cell_type": "code",
   "execution_count": 1,
   "metadata": {},
   "outputs": [],
   "source": [
    "import numpy as np\n",
    "import pandas as pd\n",
    "import seaborn as sns\n",
    "from scipy import stats\n",
    "\n",
    "sns.set_style('darkgrid')\n",
    "import matplotlib.pyplot as plt\n",
    "%matplotlib inline"
   ]
  },
  {
   "cell_type": "code",
   "execution_count": 2,
   "metadata": {},
   "outputs": [],
   "source": [
    "data = pd.read_csv('data/assignment_data.csv', sep=';')"
   ]
  },
  {
   "cell_type": "code",
   "execution_count": 3,
   "metadata": {},
   "outputs": [],
   "source": [
    "ids = ['country_id','application_id','product_id','customer_id']\n",
    "dates = ['due_date','first_status_day_date','first_status_time_of_day','paid_date','arrived_date','Variable_42','Variable_43','Variable_44']\n",
    "categoricals = ['Variable_5','Variable_6','Variable_12','Variable_45']\n",
    "ordinals = ['Variable_13','Variable_14']\n",
    "numericals = [x for x in data.columns if (x not in ids) and (x not in dates) and (x not in categoricals) and (x not in ordinals) and x != 'Target']"
   ]
  },
  {
   "cell_type": "markdown",
   "metadata": {},
   "source": [
    "# Categorical and Ordinals"
   ]
  },
  {
   "cell_type": "code",
   "execution_count": 4,
   "metadata": {},
   "outputs": [],
   "source": [
    "def transform_categorical(dataset, columns_to_transform):\n",
    "    \"\"\"Translates categorical columns into integers.\"\"\"\n",
    "\n",
    "    categorical_dictionary = {}\n",
    "    for column in columns_to_transform:\n",
    "        categories = pd.Categorical(dataset[column])\n",
    "        new_column = '{prefix}{suffix}'.format(prefix=column, suffix='_INT')\n",
    "        dataset.loc[:, new_column] = categories.codes\n",
    "        categorical_dictionary[column] = dict([(k, v) for v, k in enumerate(categories.categories)])\n",
    "        \n",
    "    return dataset, categorical_dictionary"
   ]
  },
  {
   "cell_type": "code",
   "execution_count": 5,
   "metadata": {},
   "outputs": [],
   "source": [
    "data, categorical_dictionary = transform_categorical(data, categoricals)\n",
    "data, ordinal_dictionary =  transform_categorical(data, ordinals)"
   ]
  },
  {
   "cell_type": "code",
   "execution_count": 6,
   "metadata": {},
   "outputs": [
    {
     "data": {
      "text/plain": [
       "(2572, 61)"
      ]
     },
     "execution_count": 6,
     "metadata": {},
     "output_type": "execute_result"
    }
   ],
   "source": [
    "data.shape"
   ]
  },
  {
   "cell_type": "markdown",
   "metadata": {},
   "source": [
    "# Dates"
   ]
  },
  {
   "cell_type": "code",
   "execution_count": 7,
   "metadata": {},
   "outputs": [],
   "source": [
    "for date in dates:\n",
    "    data[date] = pd.to_datetime(data[date])"
   ]
  },
  {
   "cell_type": "code",
   "execution_count": 8,
   "metadata": {},
   "outputs": [],
   "source": [
    "def transform_dates_day(dataset, columns_to_transform):\n",
    "    \"\"\"Translates dates columns into integers. Granularity: Year, Month, Day\"\"\"\n",
    "    \n",
    "    for column in columns_to_transform:\n",
    "        new_column_year = '{prefix}{suffix}'.format(prefix=column, suffix='_YEAR')\n",
    "        new_column_month = '{prefix}{suffix}'.format(prefix=column, suffix='_MONTH')\n",
    "        new_column_day = '{prefix}{suffix}'.format(prefix=column, suffix='_DAY')\n",
    "        \n",
    "        dataset.loc[:, new_column_year] = dataset.loc[:, column].dt.year\n",
    "        dataset.loc[:, new_column_month] = dataset.loc[:, column].dt.month\n",
    "        dataset.loc[:, new_column_day] = dataset.loc[:, column].dt.day\n",
    "        \n",
    "    return dataset"
   ]
  },
  {
   "cell_type": "code",
   "execution_count": 9,
   "metadata": {},
   "outputs": [],
   "source": [
    "def transform_dates_second(dataset, columns_to_transform):\n",
    "    \"\"\"Translates dates columns into integers. Granularity: Hour, Minute, Second\"\"\"\n",
    "    \n",
    "    for column in columns_to_transform:\n",
    "        new_column_hour = '{prefix}{suffix}'.format(prefix=column, suffix='_HOUR')\n",
    "        new_column_minute = '{prefix}{suffix}'.format(prefix=column, suffix='_MINUTE')\n",
    "        new_column_second = '{prefix}{suffix}'.format(prefix=column, suffix='_SECOND')\n",
    "        \n",
    "        dataset.loc[:, new_column_hour] = dataset.loc[:, column].dt.hour\n",
    "        dataset.loc[:, new_column_minute] = dataset.loc[:, column].dt.minute\n",
    "        dataset.loc[:, new_column_second] = dataset.loc[:, column].dt.second\n",
    "        \n",
    "    return dataset"
   ]
  },
  {
   "cell_type": "code",
   "execution_count": 10,
   "metadata": {},
   "outputs": [],
   "source": [
    "data = transform_dates_day(data, ['due_date','first_status_day_date','paid_date','arrived_date','Variable_42','Variable_43','Variable_44'])\n",
    "data = transform_dates_second(data, ['first_status_time_of_day','arrived_date'])"
   ]
  },
  {
   "cell_type": "code",
   "execution_count": 11,
   "metadata": {},
   "outputs": [
    {
     "data": {
      "text/plain": [
       "(2572, 88)"
      ]
     },
     "execution_count": 11,
     "metadata": {},
     "output_type": "execute_result"
    }
   ],
   "source": [
    "data.shape"
   ]
  },
  {
   "cell_type": "markdown",
   "metadata": {},
   "source": [
    "# Drop Transormed Variables"
   ]
  },
  {
   "cell_type": "code",
   "execution_count": 12,
   "metadata": {},
   "outputs": [],
   "source": [
    "data = data.drop(categoricals, axis=1)\n",
    "data = data.drop(ordinals, axis=1)\n",
    "data = data.drop(dates, axis=1)"
   ]
  },
  {
   "cell_type": "markdown",
   "metadata": {},
   "source": [
    "# Drop Constant Columns"
   ]
  },
  {
   "cell_type": "code",
   "execution_count": 13,
   "metadata": {},
   "outputs": [],
   "source": [
    "def drop_constant_column(dataframe):\n",
    "    \"\"\"Drops constant value columns of pandas dataframe.\"\"\"\n",
    "    \n",
    "    return dataframe.loc[:, (dataframe != dataframe.iloc[0]).any()]"
   ]
  },
  {
   "cell_type": "code",
   "execution_count": 14,
   "metadata": {},
   "outputs": [],
   "source": [
    "data = drop_constant_column(data)"
   ]
  },
  {
   "cell_type": "code",
   "execution_count": 15,
   "metadata": {},
   "outputs": [
    {
     "data": {
      "text/plain": [
       "(2572, 69)"
      ]
     },
     "execution_count": 15,
     "metadata": {},
     "output_type": "execute_result"
    }
   ],
   "source": [
    "data.shape"
   ]
  },
  {
   "cell_type": "code",
   "execution_count": 21,
   "metadata": {},
   "outputs": [
    {
     "name": "stdout",
     "output_type": "stream",
     "text": [
      "application_id\n",
      "customer_id\n"
     ]
    }
   ],
   "source": [
    "for c in data.columns:\n",
    "    if c in ids:\n",
    "        print(c)"
   ]
  },
  {
   "cell_type": "code",
   "execution_count": null,
   "metadata": {},
   "outputs": [],
   "source": []
  }
 ],
 "metadata": {
  "kernelspec": {
   "display_name": "Python 3",
   "language": "python",
   "name": "python3"
  },
  "language_info": {
   "codemirror_mode": {
    "name": "ipython",
    "version": 3
   },
   "file_extension": ".py",
   "mimetype": "text/x-python",
   "name": "python",
   "nbconvert_exporter": "python",
   "pygments_lexer": "ipython3",
   "version": "3.6.8"
  }
 },
 "nbformat": 4,
 "nbformat_minor": 2
}
