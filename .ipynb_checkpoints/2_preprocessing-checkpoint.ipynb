{
 "cells": [
  {
   "cell_type": "code",
   "execution_count": 1,
   "metadata": {},
   "outputs": [],
   "source": [
    "import numpy as np\n",
    "import pandas as pd\n",
    "import seaborn as sns\n",
    "from scipy import stats\n",
    "from sklearn import preprocessing\n",
    "from itertools import combinations\n",
    "sns.set_style('darkgrid')\n",
    "import matplotlib.pyplot as plt\n",
    "%matplotlib inline\n",
    "from sklearn.model_selection import train_test_split"
   ]
  },
  {
   "cell_type": "code",
   "execution_count": 2,
   "metadata": {},
   "outputs": [],
   "source": [
    "data = pd.read_csv('data/assignment_data.csv', sep=';')"
   ]
  },
  {
   "cell_type": "code",
   "execution_count": 3,
   "metadata": {},
   "outputs": [
    {
     "data": {
      "text/plain": [
       "(2572, 55)"
      ]
     },
     "execution_count": 3,
     "metadata": {},
     "output_type": "execute_result"
    }
   ],
   "source": [
    "data.shape"
   ]
  },
  {
   "cell_type": "code",
   "execution_count": 4,
   "metadata": {},
   "outputs": [],
   "source": [
    "ids = ['country_id','application_id','product_id','customer_id']\n",
    "dates = [\n",
    "    'due_date',\n",
    "    'first_status_day_date',\n",
    "    'first_status_time_of_day',\n",
    "    'paid_date',\n",
    "    'arrived_date',\n",
    "    'Variable_42',\n",
    "    'Variable_43',\n",
    "    'Variable_44']\n",
    "\n",
    "categoricals = ['Variable_5','Variable_6','Variable_12','Variable_45']\n",
    "\n",
    "ordinals = ['Variable_13','Variable_14']\n",
    "numericals = [\n",
    "    x for x in data.columns if \n",
    "    (x not in ids) and \n",
    "    (x not in dates) and \n",
    "    (x not in categoricals) and \n",
    "    (x not in ordinals) and \n",
    "    x != 'Target']"
   ]
  },
  {
   "cell_type": "code",
   "execution_count": 5,
   "metadata": {},
   "outputs": [
    {
     "data": {
      "text/plain": [
       "['due_date',\n",
       " 'first_status_day_date',\n",
       " 'first_status_time_of_day',\n",
       " 'paid_date',\n",
       " 'arrived_date',\n",
       " 'Variable_42',\n",
       " 'Variable_43',\n",
       " 'Variable_44']"
      ]
     },
     "execution_count": 5,
     "metadata": {},
     "output_type": "execute_result"
    }
   ],
   "source": [
    "dates"
   ]
  },
  {
   "cell_type": "markdown",
   "metadata": {},
   "source": [
    "# Categorical and Ordinals"
   ]
  },
  {
   "cell_type": "code",
   "execution_count": 6,
   "metadata": {},
   "outputs": [],
   "source": [
    "def transform_categorical(dataset, columns_to_transform):\n",
    "    \"\"\"Translates categorical columns into integers.\"\"\"\n",
    "\n",
    "    categorical_dictionary = {}\n",
    "    for column in columns_to_transform:\n",
    "        categories = pd.Categorical(dataset[column])\n",
    "        new_column = '{prefix}{suffix}'.format(prefix=column, suffix='_INT')\n",
    "        dataset.loc[:, new_column] = categories.codes\n",
    "        categorical_dictionary[column] = dict([(k, v) for v, k in enumerate(categories.categories)])\n",
    "        \n",
    "    return dataset, categorical_dictionary\n",
    "\n",
    "def transform_ordinals(dataset, columns_to_transform, mapper):\n",
    "    \"\"\"Translates categorical columns into integers.\"\"\"\n",
    "\n",
    "    categorical_dictionary = {}\n",
    "    for column in columns_to_transform:\n",
    "        new_column = '{prefix}{suffix}'.format(prefix=column, suffix='_INT')\n",
    "        dataset.loc[:, new_column] = dataset[column].map(mapper[column])\n",
    "    return dataset\n",
    "\n",
    "ordinal_dictionary ={\n",
    "    'Variable_13': {\n",
    "        'A': 0,\n",
    "        'B': 1,\n",
    "        'C': 2,\n",
    "        'D': 3,\n",
    "        'E': 4,\n",
    "        'F': 5,\n",
    "        'G': 6,\n",
    "        'H': 7,\n",
    "        'I': 8,\n",
    "        'J': 9,\n",
    "        'K': 10,\n",
    "        'L': 11,\n",
    "        'M': 12},\n",
    "        \n",
    "    'Variable_14': {\n",
    "        'RATINGSTUFE A': 0,\n",
    "        'RATINGSTUFE B': 1,\n",
    "        'RATINGSTUFE C': 2,\n",
    "        'RATINGSTUFE D': 3,\n",
    "        'RATINGSTUFE E': 4,\n",
    "        'RATINGSTUFE F': 5,\n",
    "        'RATINGSTUFE G': 6,\n",
    "        'RATINGSTUFE H': 7,\n",
    "        'RATINGSTUFE I': 8,\n",
    "        'RATINGSTUFE J': 8,\n",
    "        'RATINGSTUFE K': 9,\n",
    "        'RATINGSTUFE L': 10,\n",
    "        'RATINGSTUFE M': 11}\n",
    "    }"
   ]
  },
  {
   "cell_type": "code",
   "execution_count": 7,
   "metadata": {},
   "outputs": [],
   "source": [
    "data, categorical_dictionary = transform_categorical(data, categoricals)\n",
    "data =  transform_ordinals(data, ordinals, ordinal_dictionary)"
   ]
  },
  {
   "cell_type": "code",
   "execution_count": 8,
   "metadata": {},
   "outputs": [
    {
     "data": {
      "text/plain": [
       "(2572, 61)"
      ]
     },
     "execution_count": 8,
     "metadata": {},
     "output_type": "execute_result"
    }
   ],
   "source": [
    "data.shape"
   ]
  },
  {
   "cell_type": "markdown",
   "metadata": {},
   "source": [
    "# Dates"
   ]
  },
  {
   "cell_type": "code",
   "execution_count": 9,
   "metadata": {},
   "outputs": [],
   "source": [
    "for date in dates:\n",
    "    data[date] = pd.to_datetime(data[date])"
   ]
  },
  {
   "cell_type": "code",
   "execution_count": 10,
   "metadata": {},
   "outputs": [],
   "source": [
    "def transform_dates_day(dataset, columns_to_transform):\n",
    "    \"\"\"Translates dates columns into integers. Granularity: Year, Month, Day\"\"\"\n",
    "    \n",
    "    for column in columns_to_transform:\n",
    "        new_column_year = '{prefix}{suffix}'.format(prefix=column, suffix='_YEAR')\n",
    "        new_column_month = '{prefix}{suffix}'.format(prefix=column, suffix='_MONTH')\n",
    "        new_column_day = '{prefix}{suffix}'.format(prefix=column, suffix='_DAY')\n",
    "        \n",
    "        dataset.loc[:, new_column_year] = dataset.loc[:, column].dt.year\n",
    "        dataset.loc[:, new_column_month] = dataset.loc[:, column].dt.month\n",
    "        dataset.loc[:, new_column_day] = dataset.loc[:, column].dt.day\n",
    "        \n",
    "    return dataset"
   ]
  },
  {
   "cell_type": "code",
   "execution_count": 11,
   "metadata": {},
   "outputs": [],
   "source": [
    "def transform_dates_second(dataset, columns_to_transform):\n",
    "    \"\"\"Translates dates columns into integers. Granularity: Hour, Minute, Second\"\"\"\n",
    "    \n",
    "    for column in columns_to_transform:\n",
    "        new_column_hour = '{prefix}{suffix}'.format(prefix=column, suffix='_HOUR')\n",
    "        new_column_minute = '{prefix}{suffix}'.format(prefix=column, suffix='_MINUTE')\n",
    "        new_column_second = '{prefix}{suffix}'.format(prefix=column, suffix='_SECOND')\n",
    "        \n",
    "        dataset.loc[:, new_column_hour] = dataset.loc[:, column].dt.hour\n",
    "        dataset.loc[:, new_column_minute] = dataset.loc[:, column].dt.minute\n",
    "        dataset.loc[:, new_column_second] = dataset.loc[:, column].dt.second\n",
    "        \n",
    "    return dataset"
   ]
  },
  {
   "cell_type": "code",
   "execution_count": 12,
   "metadata": {},
   "outputs": [],
   "source": [
    "data = transform_dates_day(data, ['due_date','first_status_day_date','paid_date','arrived_date','Variable_42','Variable_43','Variable_44'])\n",
    "data = transform_dates_second(data, ['first_status_time_of_day','arrived_date'])"
   ]
  },
  {
   "cell_type": "code",
   "execution_count": 13,
   "metadata": {},
   "outputs": [
    {
     "data": {
      "text/plain": [
       "(2572, 88)"
      ]
     },
     "execution_count": 13,
     "metadata": {},
     "output_type": "execute_result"
    }
   ],
   "source": [
    "data.shape"
   ]
  },
  {
   "cell_type": "markdown",
   "metadata": {},
   "source": [
    "### Feature Engineering: Adding distance between dates "
   ]
  },
  {
   "cell_type": "code",
   "execution_count": 14,
   "metadata": {},
   "outputs": [],
   "source": [
    "for couple in combinations(['due_date','first_status_day_date','paid_date','arrived_date','Variable_42','Variable_43','Variable_44'],2):\n",
    "    columnn_name = \"DAYS_{}-{}\".format(couple[0],couple[1])\n",
    "    days = (data[couple[0]] - data[couple[1]]).dt.days\n",
    "    data[columnn_name] = days"
   ]
  },
  {
   "cell_type": "code",
   "execution_count": 15,
   "metadata": {},
   "outputs": [
    {
     "data": {
      "text/plain": [
       "(2572, 109)"
      ]
     },
     "execution_count": 15,
     "metadata": {},
     "output_type": "execute_result"
    }
   ],
   "source": [
    "data.shape"
   ]
  },
  {
   "cell_type": "markdown",
   "metadata": {},
   "source": [
    "# Numerical"
   ]
  },
  {
   "cell_type": "markdown",
   "metadata": {},
   "source": [
    "### Feature engineering: Adding ratios of couples of numerical"
   ]
  },
  {
   "cell_type": "markdown",
   "metadata": {},
   "source": [
    "for couple in combinations(numericals,2):\n",
    "    columnn_name = \"RATIO_{}-{}\".format(couple[0],couple[1])\n",
    "    ratio = (data[couple[0]].divide(data[couple[1]]))\n",
    "    data[columnn_name] = ratio"
   ]
  },
  {
   "cell_type": "code",
   "execution_count": 16,
   "metadata": {},
   "outputs": [
    {
     "data": {
      "text/plain": [
       "(2572, 109)"
      ]
     },
     "execution_count": 16,
     "metadata": {},
     "output_type": "execute_result"
    }
   ],
   "source": [
    "data.shape"
   ]
  },
  {
   "cell_type": "markdown",
   "metadata": {},
   "source": [
    "# Drop Transformed Variables"
   ]
  },
  {
   "cell_type": "code",
   "execution_count": 17,
   "metadata": {},
   "outputs": [],
   "source": [
    "data = data.drop(categoricals, axis=1)\n",
    "data = data.drop(ordinals, axis=1)\n",
    "data = data.drop(dates, axis=1)"
   ]
  },
  {
   "cell_type": "markdown",
   "metadata": {},
   "source": [
    "# Drop Constant Columns"
   ]
  },
  {
   "cell_type": "code",
   "execution_count": 18,
   "metadata": {},
   "outputs": [],
   "source": [
    "def drop_constant_column(dataframe):\n",
    "    \"\"\"Drops constant value columns of pandas dataframe.\"\"\"\n",
    "    \n",
    "    return dataframe.loc[:, (dataframe != dataframe.iloc[0]).any()]"
   ]
  },
  {
   "cell_type": "code",
   "execution_count": 19,
   "metadata": {},
   "outputs": [],
   "source": [
    "data = drop_constant_column(data)"
   ]
  },
  {
   "cell_type": "code",
   "execution_count": 20,
   "metadata": {},
   "outputs": [
    {
     "data": {
      "text/plain": [
       "(2572, 90)"
      ]
     },
     "execution_count": 20,
     "metadata": {},
     "output_type": "execute_result"
    }
   ],
   "source": [
    "data.shape"
   ]
  },
  {
   "cell_type": "code",
   "execution_count": 21,
   "metadata": {},
   "outputs": [
    {
     "name": "stdout",
     "output_type": "stream",
     "text": [
      "application_id\n",
      "customer_id\n"
     ]
    }
   ],
   "source": [
    "for c in data.columns:\n",
    "    if c in ids:\n",
    "        print(c)"
   ]
  },
  {
   "cell_type": "markdown",
   "metadata": {},
   "source": [
    "# Drop Empty Columns  "
   ]
  },
  {
   "cell_type": "code",
   "execution_count": 22,
   "metadata": {},
   "outputs": [],
   "source": [
    "empty_columns_to_drop = []\n",
    "empty_threshold_to_be_dropped = 90\n",
    "for column in [x for x in data.columns if x != 'Target']:\n",
    "    emptyness = float(data[column].isnull().sum() * 100) /data.shape[0]\n",
    "    if emptyness >= empty_threshold_to_be_dropped:\n",
    "        empty_columns_to_drop.append(column)\n",
    "        \n",
    "data = data.drop(empty_columns_to_drop, axis=1)"
   ]
  },
  {
   "cell_type": "code",
   "execution_count": 23,
   "metadata": {},
   "outputs": [
    {
     "name": "stdout",
     "output_type": "stream",
     "text": [
      "Dropping 24 columns\n"
     ]
    }
   ],
   "source": [
    "print('Dropping {} columns'.format(len(empty_columns_to_drop)))"
   ]
  },
  {
   "cell_type": "code",
   "execution_count": 24,
   "metadata": {},
   "outputs": [
    {
     "data": {
      "text/plain": [
       "(2572, 66)"
      ]
     },
     "execution_count": 24,
     "metadata": {},
     "output_type": "execute_result"
    }
   ],
   "source": [
    "data.shape"
   ]
  },
  {
   "cell_type": "markdown",
   "metadata": {},
   "source": [
    "# Save datasets before inputing NaN for XGBoost"
   ]
  },
  {
   "cell_type": "code",
   "execution_count": 25,
   "metadata": {},
   "outputs": [],
   "source": [
    "temp_data = data[data.Target.notnull()]\n",
    "target = temp_data['Target']\n",
    "\n",
    "X_train, X_test, y_train, y_test = train_test_split(\n",
    "    temp_data.drop(['Target'], 1),\n",
    "    target, \n",
    "    test_size=0.25, \n",
    "    random_state=2019,\n",
    "    stratify = target)"
   ]
  },
  {
   "cell_type": "code",
   "execution_count": 26,
   "metadata": {},
   "outputs": [],
   "source": [
    "#data.to_csv('data/preprocessed_entire_set.csv', sep=';', index=False)\n",
    "#target.to_csv('data/entire_target.csv', sep=';', index=False, header='Target')\n",
    "\n",
    "X_train.to_csv('data/preprocessed_train_set_NAN.csv', sep=';', index=False)\n",
    "y_train.to_csv('data/train_target_NAN.csv', sep=';', index=False, header='Target')\n",
    "\n",
    "X_test.to_csv('data/preprocessed_test_set_NAN.csv', sep=';', index=False)\n",
    "y_test.to_csv('data/test_target_NAN.csv', sep=';', index=False,  header='Target')"
   ]
  },
  {
   "cell_type": "markdown",
   "metadata": {},
   "source": [
    "# Inputing NaN"
   ]
  },
  {
   "cell_type": "code",
   "execution_count": 27,
   "metadata": {},
   "outputs": [
    {
     "data": {
      "text/html": [
       "<div>\n",
       "<style>\n",
       "    .dataframe thead tr:only-child th {\n",
       "        text-align: right;\n",
       "    }\n",
       "\n",
       "    .dataframe thead th {\n",
       "        text-align: left;\n",
       "    }\n",
       "\n",
       "    .dataframe tbody tr th {\n",
       "        vertical-align: top;\n",
       "    }\n",
       "</style>\n",
       "<table border=\"1\" class=\"dataframe\">\n",
       "  <thead>\n",
       "    <tr style=\"text-align: right;\">\n",
       "      <th></th>\n",
       "      <th>Total</th>\n",
       "      <th>Emptyness Percentage</th>\n",
       "    </tr>\n",
       "  </thead>\n",
       "  <tbody>\n",
       "    <tr>\n",
       "      <th>Variable_21</th>\n",
       "      <td>1990</td>\n",
       "      <td>0.773717</td>\n",
       "    </tr>\n",
       "    <tr>\n",
       "      <th>Variable_38</th>\n",
       "      <td>1990</td>\n",
       "      <td>0.773717</td>\n",
       "    </tr>\n",
       "    <tr>\n",
       "      <th>Variable_22</th>\n",
       "      <td>1757</td>\n",
       "      <td>0.683126</td>\n",
       "    </tr>\n",
       "    <tr>\n",
       "      <th>Variable_39</th>\n",
       "      <td>1757</td>\n",
       "      <td>0.683126</td>\n",
       "    </tr>\n",
       "    <tr>\n",
       "      <th>Variable_37</th>\n",
       "      <td>1100</td>\n",
       "      <td>0.427683</td>\n",
       "    </tr>\n",
       "    <tr>\n",
       "      <th>Variable_20</th>\n",
       "      <td>1100</td>\n",
       "      <td>0.427683</td>\n",
       "    </tr>\n",
       "    <tr>\n",
       "      <th>Target</th>\n",
       "      <td>515</td>\n",
       "      <td>0.200233</td>\n",
       "    </tr>\n",
       "    <tr>\n",
       "      <th>Variable_26</th>\n",
       "      <td>184</td>\n",
       "      <td>0.071540</td>\n",
       "    </tr>\n",
       "    <tr>\n",
       "      <th>Variable_27</th>\n",
       "      <td>184</td>\n",
       "      <td>0.071540</td>\n",
       "    </tr>\n",
       "    <tr>\n",
       "      <th>Variable_28</th>\n",
       "      <td>184</td>\n",
       "      <td>0.071540</td>\n",
       "    </tr>\n",
       "  </tbody>\n",
       "</table>\n",
       "</div>"
      ],
      "text/plain": [
       "             Total  Emptyness Percentage\n",
       "Variable_21   1990              0.773717\n",
       "Variable_38   1990              0.773717\n",
       "Variable_22   1757              0.683126\n",
       "Variable_39   1757              0.683126\n",
       "Variable_37   1100              0.427683\n",
       "Variable_20   1100              0.427683\n",
       "Target         515              0.200233\n",
       "Variable_26    184              0.071540\n",
       "Variable_27    184              0.071540\n",
       "Variable_28    184              0.071540"
      ]
     },
     "execution_count": 27,
     "metadata": {},
     "output_type": "execute_result"
    }
   ],
   "source": [
    "total = data.isnull().sum().sort_values(ascending=False)\n",
    "percent = (data.isnull().sum()/data.isnull().count()).sort_values(ascending=False)\n",
    "missing_data = pd.concat([total, percent], axis=1, keys=['Total', 'Emptyness Percentage'])\n",
    "missing_data.head(10)"
   ]
  },
  {
   "cell_type": "code",
   "execution_count": 28,
   "metadata": {},
   "outputs": [],
   "source": [
    "for column in [x for x in data.columns if x != 'Target']:\n",
    "    data[column] = data[column].replace([np.inf, -np.inf], np.nan)\n",
    "    data[column] = data[column].fillna((data[column].mean()))\n",
    "    #data[column] = data[column].fillna(0)"
   ]
  },
  {
   "cell_type": "markdown",
   "metadata": {},
   "source": [
    "# MinMaxScale"
   ]
  },
  {
   "cell_type": "code",
   "execution_count": 29,
   "metadata": {},
   "outputs": [
    {
     "data": {
      "text/plain": [
       "(2572, 66)"
      ]
     },
     "execution_count": 29,
     "metadata": {},
     "output_type": "execute_result"
    }
   ],
   "source": [
    "data.shape"
   ]
  },
  {
   "cell_type": "raw",
   "metadata": {},
   "source": [
    "temp_target = data['Target']\n",
    "\n",
    "data.drop(['Target'], 1, inplace=True)\n",
    "temp_A = pd.DataFrame(data[[x for x in ids if x in data.columns]])\n",
    "\n",
    "min_max_scaler = preprocessing.MinMaxScaler()\n",
    "temp_B = min_max_scaler.fit_transform(data[[x for x in data.columns if x not in ids]])\n",
    "temp_B = pd.DataFrame(temp_B, columns=[x for x in data.columns if x not in ids])\n",
    "\n",
    "data = pd.concat([temp_A, temp_B, temp_target], axis=1)"
   ]
  },
  {
   "cell_type": "code",
   "execution_count": 30,
   "metadata": {},
   "outputs": [
    {
     "data": {
      "text/plain": [
       "(2572, 66)"
      ]
     },
     "execution_count": 30,
     "metadata": {},
     "output_type": "execute_result"
    }
   ],
   "source": [
    "data.shape"
   ]
  },
  {
   "cell_type": "markdown",
   "metadata": {},
   "source": [
    "# Grab Ferratum Test set"
   ]
  },
  {
   "cell_type": "code",
   "execution_count": 31,
   "metadata": {},
   "outputs": [],
   "source": [
    "ferratum_preprocessed_test_set = data[data.Target.isnull()]"
   ]
  },
  {
   "cell_type": "code",
   "execution_count": 32,
   "metadata": {},
   "outputs": [
    {
     "data": {
      "text/plain": [
       "(515, 66)"
      ]
     },
     "execution_count": 32,
     "metadata": {},
     "output_type": "execute_result"
    }
   ],
   "source": [
    "ferratum_preprocessed_test_set.shape"
   ]
  },
  {
   "cell_type": "code",
   "execution_count": 33,
   "metadata": {},
   "outputs": [],
   "source": [
    "ferratum_preprocessed_test_set.to_csv('data/ferratum_preprocessed_test_set.csv', sep=';', index=False)"
   ]
  },
  {
   "cell_type": "markdown",
   "metadata": {},
   "source": [
    "# Split in Train Test"
   ]
  },
  {
   "cell_type": "code",
   "execution_count": 34,
   "metadata": {},
   "outputs": [],
   "source": [
    "data = data[data.Target.notnull()]"
   ]
  },
  {
   "cell_type": "markdown",
   "metadata": {},
   "source": [
    "##### Undersampling\n",
    "print(data[data.Target ==1].shape)\n",
    "print(data[data.Target ==0].shape)\n",
    "new_data = data[data.Target ==1].sample(633)\n",
    "new_data = new_data.append(data[data.Target ==0])\n",
    "data = new_data.copy()"
   ]
  },
  {
   "cell_type": "markdown",
   "metadata": {},
   "source": [
    "!pip install -U --user git+https://github.com/scikit-learn-contrib/imbalanced-learn.git"
   ]
  },
  {
   "cell_type": "code",
   "execution_count": 35,
   "metadata": {},
   "outputs": [],
   "source": [
    "target = data['Target']"
   ]
  },
  {
   "cell_type": "code",
   "execution_count": 36,
   "metadata": {},
   "outputs": [],
   "source": [
    "data.drop(['Target'], 1 ,inplace=True)"
   ]
  },
  {
   "cell_type": "code",
   "execution_count": 37,
   "metadata": {},
   "outputs": [
    {
     "data": {
      "text/plain": [
       "(2057, 65)"
      ]
     },
     "execution_count": 37,
     "metadata": {},
     "output_type": "execute_result"
    }
   ],
   "source": [
    "data.shape"
   ]
  },
  {
   "cell_type": "code",
   "execution_count": 39,
   "metadata": {},
   "outputs": [],
   "source": [
    "##### Oversampling\n",
    "from imblearn.over_sampling import SMOTE, BorderlineSMOTE, SVMSMOTE \n",
    "sm = SVMSMOTE(random_state=2019, k_neighbors=10)\n",
    "temp_data, temp_target = sm.fit_resample(data, target)\n",
    "data = pd.DataFrame(temp_data, columns=data.columns)\n",
    "target = pd.DataFrame(temp_target, columns=['Target'])"
   ]
  },
  {
   "cell_type": "code",
   "execution_count": 40,
   "metadata": {},
   "outputs": [
    {
     "data": {
      "text/plain": [
       "(2848, 65)"
      ]
     },
     "execution_count": 40,
     "metadata": {},
     "output_type": "execute_result"
    }
   ],
   "source": [
    "data.shape"
   ]
  },
  {
   "cell_type": "code",
   "execution_count": 41,
   "metadata": {},
   "outputs": [
    {
     "data": {
      "text/plain": [
       "Target    1424.0\n",
       "dtype: float64"
      ]
     },
     "execution_count": 41,
     "metadata": {},
     "output_type": "execute_result"
    }
   ],
   "source": [
    "target.sum()"
   ]
  },
  {
   "cell_type": "code",
   "execution_count": 42,
   "metadata": {},
   "outputs": [],
   "source": [
    "X_train, X_test, y_train, y_test = train_test_split(\n",
    "    data, \n",
    "    target, \n",
    "    test_size=0.25, \n",
    "    random_state=2019,\n",
    "    stratify = target)"
   ]
  },
  {
   "cell_type": "code",
   "execution_count": 43,
   "metadata": {},
   "outputs": [
    {
     "name": "stdout",
     "output_type": "stream",
     "text": [
      "(2136, 65)\n",
      "(2136, 1)\n",
      "(712, 65)\n",
      "(712, 1)\n"
     ]
    }
   ],
   "source": [
    "print(X_train.shape)\n",
    "print(y_train.shape)\n",
    "print(X_test.shape)\n",
    "print(y_test.shape)"
   ]
  },
  {
   "cell_type": "code",
   "execution_count": 44,
   "metadata": {},
   "outputs": [],
   "source": [
    "data.to_csv('data/preprocessed_entire_set.csv', sep=';', index=False)\n",
    "target.to_csv('data/entire_target.csv', sep=';', index=False, header='Target')\n",
    "\n",
    "X_train.to_csv('data/preprocessed_train_set.csv', sep=';', index=False)\n",
    "y_train.to_csv('data/train_target.csv', sep=';', index=False, header='Target')\n",
    "\n",
    "X_test.to_csv('data/preprocessed_test_set.csv', sep=';', index=False)\n",
    "y_test.to_csv('data/test_target.csv', sep=';', index=False,  header='Target')"
   ]
  },
  {
   "cell_type": "code",
   "execution_count": null,
   "metadata": {},
   "outputs": [],
   "source": []
  },
  {
   "cell_type": "code",
   "execution_count": null,
   "metadata": {},
   "outputs": [],
   "source": []
  },
  {
   "cell_type": "code",
   "execution_count": null,
   "metadata": {},
   "outputs": [],
   "source": []
  },
  {
   "cell_type": "code",
   "execution_count": null,
   "metadata": {},
   "outputs": [],
   "source": []
  },
  {
   "cell_type": "code",
   "execution_count": null,
   "metadata": {},
   "outputs": [],
   "source": []
  },
  {
   "cell_type": "code",
   "execution_count": null,
   "metadata": {},
   "outputs": [],
   "source": []
  },
  {
   "cell_type": "code",
   "execution_count": null,
   "metadata": {},
   "outputs": [],
   "source": []
  },
  {
   "cell_type": "code",
   "execution_count": null,
   "metadata": {},
   "outputs": [],
   "source": []
  },
  {
   "cell_type": "code",
   "execution_count": null,
   "metadata": {},
   "outputs": [],
   "source": []
  },
  {
   "cell_type": "code",
   "execution_count": null,
   "metadata": {},
   "outputs": [],
   "source": []
  },
  {
   "cell_type": "code",
   "execution_count": null,
   "metadata": {},
   "outputs": [],
   "source": []
  },
  {
   "cell_type": "code",
   "execution_count": null,
   "metadata": {},
   "outputs": [],
   "source": []
  },
  {
   "cell_type": "code",
   "execution_count": null,
   "metadata": {},
   "outputs": [],
   "source": []
  },
  {
   "cell_type": "code",
   "execution_count": null,
   "metadata": {},
   "outputs": [],
   "source": []
  },
  {
   "cell_type": "code",
   "execution_count": null,
   "metadata": {},
   "outputs": [],
   "source": []
  },
  {
   "cell_type": "code",
   "execution_count": null,
   "metadata": {},
   "outputs": [],
   "source": []
  },
  {
   "cell_type": "code",
   "execution_count": null,
   "metadata": {},
   "outputs": [],
   "source": []
  },
  {
   "cell_type": "code",
   "execution_count": null,
   "metadata": {},
   "outputs": [],
   "source": []
  },
  {
   "cell_type": "code",
   "execution_count": null,
   "metadata": {},
   "outputs": [],
   "source": []
  },
  {
   "cell_type": "code",
   "execution_count": null,
   "metadata": {},
   "outputs": [],
   "source": []
  },
  {
   "cell_type": "code",
   "execution_count": null,
   "metadata": {},
   "outputs": [],
   "source": []
  },
  {
   "cell_type": "code",
   "execution_count": null,
   "metadata": {},
   "outputs": [],
   "source": []
  },
  {
   "cell_type": "code",
   "execution_count": null,
   "metadata": {},
   "outputs": [],
   "source": []
  },
  {
   "cell_type": "code",
   "execution_count": null,
   "metadata": {},
   "outputs": [],
   "source": []
  },
  {
   "cell_type": "code",
   "execution_count": null,
   "metadata": {},
   "outputs": [],
   "source": []
  }
 ],
 "metadata": {
  "kernelspec": {
   "display_name": "Python 2",
   "language": "python",
   "name": "python2"
  },
  "language_info": {
   "codemirror_mode": {
    "name": "ipython",
    "version": 2
   },
   "file_extension": ".py",
   "mimetype": "text/x-python",
   "name": "python",
   "nbconvert_exporter": "python",
   "pygments_lexer": "ipython2",
   "version": "2.7.16"
  }
 },
 "nbformat": 4,
 "nbformat_minor": 2
}
