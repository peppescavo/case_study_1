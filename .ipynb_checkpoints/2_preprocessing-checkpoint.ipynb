{
 "cells": [
  {
   "cell_type": "code",
   "execution_count": 1,
   "metadata": {},
   "outputs": [],
   "source": [
    "import numpy as np\n",
    "import pandas as pd\n",
    "import seaborn as sns\n",
    "from scipy import stats\n",
    "\n",
    "sns.set_style('darkgrid')\n",
    "import matplotlib.pyplot as plt\n",
    "%matplotlib inline\n",
    "from sklearn.model_selection import train_test_split"
   ]
  },
  {
   "cell_type": "code",
   "execution_count": 2,
   "metadata": {},
   "outputs": [],
   "source": [
    "data = pd.read_csv('data/assignment_data.csv', sep=';')"
   ]
  },
  {
   "cell_type": "code",
   "execution_count": 3,
   "metadata": {},
   "outputs": [],
   "source": [
    "ids = ['country_id','application_id','product_id','customer_id']\n",
    "dates = ['due_date','first_status_day_date','first_status_time_of_day','paid_date','arrived_date','Variable_42','Variable_43','Variable_44']\n",
    "categoricals = ['Variable_5','Variable_6','Variable_12','Variable_45']\n",
    "ordinals = ['Variable_13','Variable_14']\n",
    "numericals = [x for x in data.columns if (x not in ids) and (x not in dates) and (x not in categoricals) and (x not in ordinals) and x != 'Target']"
   ]
  },
  {
   "cell_type": "markdown",
   "metadata": {},
   "source": [
    "# Categorical and Ordinals"
   ]
  },
  {
   "cell_type": "code",
   "execution_count": 4,
   "metadata": {},
   "outputs": [],
   "source": [
    "def transform_categorical(dataset, columns_to_transform):\n",
    "    \"\"\"Translates categorical columns into integers.\"\"\"\n",
    "\n",
    "    categorical_dictionary = {}\n",
    "    for column in columns_to_transform:\n",
    "        categories = pd.Categorical(dataset[column])\n",
    "        new_column = '{prefix}{suffix}'.format(prefix=column, suffix='_INT')\n",
    "        dataset.loc[:, new_column] = categories.codes\n",
    "        categorical_dictionary[column] = dict([(k, v) for v, k in enumerate(categories.categories)])\n",
    "        \n",
    "    return dataset, categorical_dictionary"
   ]
  },
  {
   "cell_type": "code",
   "execution_count": 5,
   "metadata": {},
   "outputs": [],
   "source": [
    "data, categorical_dictionary = transform_categorical(data, categoricals)\n",
    "data, ordinal_dictionary =  transform_categorical(data, ordinals)"
   ]
  },
  {
   "cell_type": "code",
   "execution_count": 6,
   "metadata": {},
   "outputs": [
    {
     "data": {
      "text/plain": [
       "(2572, 61)"
      ]
     },
     "execution_count": 6,
     "metadata": {},
     "output_type": "execute_result"
    }
   ],
   "source": [
    "data.shape"
   ]
  },
  {
   "cell_type": "markdown",
   "metadata": {},
   "source": [
    "# Dates"
   ]
  },
  {
   "cell_type": "code",
   "execution_count": 7,
   "metadata": {},
   "outputs": [],
   "source": [
    "for date in dates:\n",
    "    data[date] = pd.to_datetime(data[date])"
   ]
  },
  {
   "cell_type": "code",
   "execution_count": 8,
   "metadata": {},
   "outputs": [],
   "source": [
    "def transform_dates_day(dataset, columns_to_transform):\n",
    "    \"\"\"Translates dates columns into integers. Granularity: Year, Month, Day\"\"\"\n",
    "    \n",
    "    for column in columns_to_transform:\n",
    "        new_column_year = '{prefix}{suffix}'.format(prefix=column, suffix='_YEAR')\n",
    "        new_column_month = '{prefix}{suffix}'.format(prefix=column, suffix='_MONTH')\n",
    "        new_column_day = '{prefix}{suffix}'.format(prefix=column, suffix='_DAY')\n",
    "        \n",
    "        dataset.loc[:, new_column_year] = dataset.loc[:, column].dt.year\n",
    "        dataset.loc[:, new_column_month] = dataset.loc[:, column].dt.month\n",
    "        dataset.loc[:, new_column_day] = dataset.loc[:, column].dt.day\n",
    "        \n",
    "    return dataset"
   ]
  },
  {
   "cell_type": "code",
   "execution_count": 9,
   "metadata": {},
   "outputs": [],
   "source": [
    "def transform_dates_second(dataset, columns_to_transform):\n",
    "    \"\"\"Translates dates columns into integers. Granularity: Hour, Minute, Second\"\"\"\n",
    "    \n",
    "    for column in columns_to_transform:\n",
    "        new_column_hour = '{prefix}{suffix}'.format(prefix=column, suffix='_HOUR')\n",
    "        new_column_minute = '{prefix}{suffix}'.format(prefix=column, suffix='_MINUTE')\n",
    "        new_column_second = '{prefix}{suffix}'.format(prefix=column, suffix='_SECOND')\n",
    "        \n",
    "        dataset.loc[:, new_column_hour] = dataset.loc[:, column].dt.hour\n",
    "        dataset.loc[:, new_column_minute] = dataset.loc[:, column].dt.minute\n",
    "        dataset.loc[:, new_column_second] = dataset.loc[:, column].dt.second\n",
    "        \n",
    "    return dataset"
   ]
  },
  {
   "cell_type": "code",
   "execution_count": 10,
   "metadata": {},
   "outputs": [],
   "source": [
    "data = transform_dates_day(data, ['due_date','first_status_day_date','paid_date','arrived_date','Variable_42','Variable_43','Variable_44'])\n",
    "data = transform_dates_second(data, ['first_status_time_of_day','arrived_date'])"
   ]
  },
  {
   "cell_type": "code",
   "execution_count": 11,
   "metadata": {},
   "outputs": [
    {
     "data": {
      "text/plain": [
       "(2572, 88)"
      ]
     },
     "execution_count": 11,
     "metadata": {},
     "output_type": "execute_result"
    }
   ],
   "source": [
    "data.shape"
   ]
  },
  {
   "cell_type": "markdown",
   "metadata": {},
   "source": [
    "# Drop Transormed Variables"
   ]
  },
  {
   "cell_type": "code",
   "execution_count": 12,
   "metadata": {},
   "outputs": [],
   "source": [
    "data = data.drop(categoricals, axis=1)\n",
    "data = data.drop(ordinals, axis=1)\n",
    "data = data.drop(dates, axis=1)"
   ]
  },
  {
   "cell_type": "markdown",
   "metadata": {},
   "source": [
    "# Drop Constant Columns"
   ]
  },
  {
   "cell_type": "code",
   "execution_count": 13,
   "metadata": {},
   "outputs": [],
   "source": [
    "def drop_constant_column(dataframe):\n",
    "    \"\"\"Drops constant value columns of pandas dataframe.\"\"\"\n",
    "    \n",
    "    return dataframe.loc[:, (dataframe != dataframe.iloc[0]).any()]"
   ]
  },
  {
   "cell_type": "code",
   "execution_count": 14,
   "metadata": {},
   "outputs": [],
   "source": [
    "data = drop_constant_column(data)"
   ]
  },
  {
   "cell_type": "code",
   "execution_count": 15,
   "metadata": {},
   "outputs": [
    {
     "data": {
      "text/plain": [
       "(2572, 69)"
      ]
     },
     "execution_count": 15,
     "metadata": {},
     "output_type": "execute_result"
    }
   ],
   "source": [
    "data.shape"
   ]
  },
  {
   "cell_type": "code",
   "execution_count": 16,
   "metadata": {},
   "outputs": [
    {
     "name": "stdout",
     "output_type": "stream",
     "text": [
      "application_id\n",
      "customer_id\n"
     ]
    }
   ],
   "source": [
    "for c in data.columns:\n",
    "    if c in ids:\n",
    "        print(c)"
   ]
  },
  {
   "cell_type": "markdown",
   "metadata": {},
   "source": [
    "# Drop Empty Columns  "
   ]
  },
  {
   "cell_type": "markdown",
   "metadata": {},
   "source": [
    "# Inputing NaN"
   ]
  },
  {
   "cell_type": "code",
   "execution_count": 17,
   "metadata": {},
   "outputs": [
    {
     "data": {
      "text/html": [
       "<div>\n",
       "<style scoped>\n",
       "    .dataframe tbody tr th:only-of-type {\n",
       "        vertical-align: middle;\n",
       "    }\n",
       "\n",
       "    .dataframe tbody tr th {\n",
       "        vertical-align: top;\n",
       "    }\n",
       "\n",
       "    .dataframe thead th {\n",
       "        text-align: right;\n",
       "    }\n",
       "</style>\n",
       "<table border=\"1\" class=\"dataframe\">\n",
       "  <thead>\n",
       "    <tr style=\"text-align: right;\">\n",
       "      <th></th>\n",
       "      <th>Total</th>\n",
       "      <th>Emptyness Percentage</th>\n",
       "    </tr>\n",
       "  </thead>\n",
       "  <tbody>\n",
       "    <tr>\n",
       "      <th>Variable_42_YEAR</th>\n",
       "      <td>2463</td>\n",
       "      <td>0.957621</td>\n",
       "    </tr>\n",
       "    <tr>\n",
       "      <th>Variable_42_MONTH</th>\n",
       "      <td>2463</td>\n",
       "      <td>0.957621</td>\n",
       "    </tr>\n",
       "    <tr>\n",
       "      <th>Variable_42_DAY</th>\n",
       "      <td>2463</td>\n",
       "      <td>0.957621</td>\n",
       "    </tr>\n",
       "    <tr>\n",
       "      <th>Variable_43_MONTH</th>\n",
       "      <td>2424</td>\n",
       "      <td>0.942457</td>\n",
       "    </tr>\n",
       "    <tr>\n",
       "      <th>Variable_43_YEAR</th>\n",
       "      <td>2424</td>\n",
       "      <td>0.942457</td>\n",
       "    </tr>\n",
       "    <tr>\n",
       "      <th>Variable_43_DAY</th>\n",
       "      <td>2424</td>\n",
       "      <td>0.942457</td>\n",
       "    </tr>\n",
       "    <tr>\n",
       "      <th>Variable_44_DAY</th>\n",
       "      <td>2371</td>\n",
       "      <td>0.921851</td>\n",
       "    </tr>\n",
       "    <tr>\n",
       "      <th>Variable_44_MONTH</th>\n",
       "      <td>2371</td>\n",
       "      <td>0.921851</td>\n",
       "    </tr>\n",
       "    <tr>\n",
       "      <th>Variable_44_YEAR</th>\n",
       "      <td>2371</td>\n",
       "      <td>0.921851</td>\n",
       "    </tr>\n",
       "    <tr>\n",
       "      <th>Variable_38</th>\n",
       "      <td>1990</td>\n",
       "      <td>0.773717</td>\n",
       "    </tr>\n",
       "  </tbody>\n",
       "</table>\n",
       "</div>"
      ],
      "text/plain": [
       "                   Total  Emptyness Percentage\n",
       "Variable_42_YEAR    2463              0.957621\n",
       "Variable_42_MONTH   2463              0.957621\n",
       "Variable_42_DAY     2463              0.957621\n",
       "Variable_43_MONTH   2424              0.942457\n",
       "Variable_43_YEAR    2424              0.942457\n",
       "Variable_43_DAY     2424              0.942457\n",
       "Variable_44_DAY     2371              0.921851\n",
       "Variable_44_MONTH   2371              0.921851\n",
       "Variable_44_YEAR    2371              0.921851\n",
       "Variable_38         1990              0.773717"
      ]
     },
     "execution_count": 17,
     "metadata": {},
     "output_type": "execute_result"
    }
   ],
   "source": [
    "total = data.isnull().sum().sort_values(ascending=False)\n",
    "percent = (data.isnull().sum()/data.isnull().count()).sort_values(ascending=False)\n",
    "missing_data = pd.concat([total, percent], axis=1, keys=['Total', 'Emptyness Percentage'])\n",
    "missing_data.head(10)"
   ]
  },
  {
   "cell_type": "code",
   "execution_count": 18,
   "metadata": {},
   "outputs": [],
   "source": [
    "for column in [x for x in data.columns if x != 'Target']:\n",
    "    data[column] = data[column].fillna((data[column].mean()))"
   ]
  },
  {
   "cell_type": "markdown",
   "metadata": {},
   "source": [
    "# Grab Ferratum Test set"
   ]
  },
  {
   "cell_type": "code",
   "execution_count": 19,
   "metadata": {},
   "outputs": [],
   "source": [
    "ferratum_preprocessed_test_set = data[data.Target.isnull()]"
   ]
  },
  {
   "cell_type": "code",
   "execution_count": 20,
   "metadata": {},
   "outputs": [
    {
     "data": {
      "text/plain": [
       "(515, 69)"
      ]
     },
     "execution_count": 20,
     "metadata": {},
     "output_type": "execute_result"
    }
   ],
   "source": [
    "ferratum_preprocessed_test_set.shape"
   ]
  },
  {
   "cell_type": "code",
   "execution_count": 21,
   "metadata": {},
   "outputs": [],
   "source": [
    "ferratum_preprocessed_test_set.to_csv('data/ferratum_preprocessed_test_set.csv', sep=';', index=False)"
   ]
  },
  {
   "cell_type": "markdown",
   "metadata": {},
   "source": [
    "# Split in Train Test"
   ]
  },
  {
   "cell_type": "code",
   "execution_count": 22,
   "metadata": {},
   "outputs": [],
   "source": [
    "data = data[data.Target.notnull()]"
   ]
  },
  {
   "cell_type": "code",
   "execution_count": 23,
   "metadata": {},
   "outputs": [],
   "source": [
    "target = data['Target']"
   ]
  },
  {
   "cell_type": "code",
   "execution_count": 24,
   "metadata": {},
   "outputs": [],
   "source": [
    "data.drop(['Target'], 1 ,inplace=True)"
   ]
  },
  {
   "cell_type": "code",
   "execution_count": 25,
   "metadata": {},
   "outputs": [],
   "source": [
    "X_train, X_test, y_train, y_test = train_test_split(\n",
    "    data, \n",
    "    target, \n",
    "    test_size=0.25, \n",
    "    random_state=2019,\n",
    "    stratify = target)"
   ]
  },
  {
   "cell_type": "code",
   "execution_count": 26,
   "metadata": {},
   "outputs": [
    {
     "name": "stdout",
     "output_type": "stream",
     "text": [
      "(1542, 68)\n",
      "(1542,)\n",
      "(515, 68)\n",
      "(515,)\n"
     ]
    }
   ],
   "source": [
    "print(X_train.shape)\n",
    "print(y_train.shape)\n",
    "print(X_test.shape)\n",
    "print(y_test.shape)"
   ]
  },
  {
   "cell_type": "code",
   "execution_count": 27,
   "metadata": {},
   "outputs": [],
   "source": [
    "X_train.to_csv('data/preprocessed_train_set.csv', sep=';', index=False)\n",
    "y_train.to_csv('data/train_target.csv', sep=';', index=False, header='Target')\n",
    "\n",
    "X_test.to_csv('data/preprocessed_test_set.csv', sep=';', index=False)\n",
    "y_test.to_csv('data/test_target.csv', sep=';', index=False,  header='Target')"
   ]
  },
  {
   "cell_type": "code",
   "execution_count": null,
   "metadata": {},
   "outputs": [],
   "source": []
  },
  {
   "cell_type": "code",
   "execution_count": null,
   "metadata": {},
   "outputs": [],
   "source": []
  },
  {
   "cell_type": "code",
   "execution_count": null,
   "metadata": {},
   "outputs": [],
   "source": []
  }
 ],
 "metadata": {
  "kernelspec": {
   "display_name": "Python 3",
   "language": "python",
   "name": "python3"
  },
  "language_info": {
   "codemirror_mode": {
    "name": "ipython",
    "version": 3
   },
   "file_extension": ".py",
   "mimetype": "text/x-python",
   "name": "python",
   "nbconvert_exporter": "python",
   "pygments_lexer": "ipython3",
   "version": "3.6.8"
  }
 },
 "nbformat": 4,
 "nbformat_minor": 2
}
