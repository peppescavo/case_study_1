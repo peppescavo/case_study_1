{
 "cells": [
  {
   "cell_type": "code",
   "execution_count": 2,
   "metadata": {},
   "outputs": [],
   "source": [
    "import numpy as np\n",
    "import pandas as pd\n",
    "import seaborn as sns\n",
    "from scipy import stats\n",
    "\n",
    "sns.set_style('darkgrid')\n",
    "import matplotlib.pyplot as plt\n",
    "%matplotlib inline"
   ]
  },
  {
   "cell_type": "code",
   "execution_count": 3,
   "metadata": {},
   "outputs": [],
   "source": [
    "data = pd.read_csv('data/assignment_data.csv', sep=';')"
   ]
  },
  {
   "cell_type": "code",
   "execution_count": 4,
   "metadata": {},
   "outputs": [
    {
     "data": {
      "text/plain": [
       "(2572, 55)"
      ]
     },
     "execution_count": 4,
     "metadata": {},
     "output_type": "execute_result"
    }
   ],
   "source": [
    "data.shape"
   ]
  },
  {
   "cell_type": "code",
   "execution_count": 5,
   "metadata": {},
   "outputs": [
    {
     "data": {
      "text/plain": [
       "Index(['country_id', 'application_id', 'product_id', 'Variable_1',\n",
       "       'Variable_2', 'Variable_3', 'Variable_4', 'Variable_5', 'Variable_6',\n",
       "       'Variable_7', 'due_date', 'first_status_day_date',\n",
       "       'first_status_time_of_day', 'paid_date', 'Variable_8', 'customer_id',\n",
       "       'arrived_date', 'Variable_9', 'Variable_10', 'Variable_11',\n",
       "       'Variable_12', 'Variable_13', 'Variable_14', 'Variable_15',\n",
       "       'Variable_16', 'Variable_17', 'Variable_18', 'Variable_19',\n",
       "       'Variable_20', 'Variable_21', 'Variable_22', 'Variable_23',\n",
       "       'Variable_24', 'Variable_25', 'Variable_26', 'Variable_27',\n",
       "       'Variable_28', 'Variable_29', 'Variable_30', 'Variable_31',\n",
       "       'Variable_32', 'Variable_33', 'Variable_34', 'Variable_35',\n",
       "       'Variable_36', 'Variable_37', 'Variable_38', 'Variable_39',\n",
       "       'Variable_40', 'Variable_41', 'Variable_42', 'Variable_43',\n",
       "       'Variable_44', 'Variable_45', 'Target'],\n",
       "      dtype='object')"
      ]
     },
     "execution_count": 5,
     "metadata": {},
     "output_type": "execute_result"
    }
   ],
   "source": [
    "data.columns"
   ]
  },
  {
   "cell_type": "code",
   "execution_count": 40,
   "metadata": {},
   "outputs": [],
   "source": [
    "ids = ['country_id','application_id','product_id','customer_id']\n",
    "dates = ['due_date','first_status_day_date','first_status_time_of_day','paid_date','arrived_date','Variable_42','Variable_43','Variable_44']\n",
    "categoricals = ['Variable_5','Variable_6','Variable_12','Variable_45']\n",
    "ordinals = ['Variable_13','Variable_14']\n",
    "numericals = [x for x in data.columns if (x not in ids) and (x not in dates) and (x not in categoricals) and (x not in ordinals) and x != 'Target']"
   ]
  },
  {
   "cell_type": "code",
   "execution_count": 11,
   "metadata": {},
   "outputs": [
    {
     "data": {
      "text/html": [
       "<div>\n",
       "<style scoped>\n",
       "    .dataframe tbody tr th:only-of-type {\n",
       "        vertical-align: middle;\n",
       "    }\n",
       "\n",
       "    .dataframe tbody tr th {\n",
       "        vertical-align: top;\n",
       "    }\n",
       "\n",
       "    .dataframe thead th {\n",
       "        text-align: right;\n",
       "    }\n",
       "</style>\n",
       "<table border=\"1\" class=\"dataframe\">\n",
       "  <thead>\n",
       "    <tr style=\"text-align: right;\">\n",
       "      <th></th>\n",
       "      <th>country_id</th>\n",
       "      <th>application_id</th>\n",
       "      <th>product_id</th>\n",
       "      <th>Variable_1</th>\n",
       "      <th>Variable_2</th>\n",
       "      <th>Variable_3</th>\n",
       "      <th>Variable_4</th>\n",
       "      <th>Variable_6</th>\n",
       "      <th>Variable_7</th>\n",
       "      <th>Variable_8</th>\n",
       "      <th>...</th>\n",
       "      <th>Variable_33</th>\n",
       "      <th>Variable_34</th>\n",
       "      <th>Variable_35</th>\n",
       "      <th>Variable_36</th>\n",
       "      <th>Variable_37</th>\n",
       "      <th>Variable_38</th>\n",
       "      <th>Variable_39</th>\n",
       "      <th>Variable_40</th>\n",
       "      <th>Variable_41</th>\n",
       "      <th>Target</th>\n",
       "    </tr>\n",
       "  </thead>\n",
       "  <tbody>\n",
       "    <tr>\n",
       "      <th>count</th>\n",
       "      <td>2572.0</td>\n",
       "      <td>2572.000000</td>\n",
       "      <td>2572.0</td>\n",
       "      <td>2572.000000</td>\n",
       "      <td>2572.000000</td>\n",
       "      <td>2572.0</td>\n",
       "      <td>2572.000000</td>\n",
       "      <td>2537.000000</td>\n",
       "      <td>2571.000000</td>\n",
       "      <td>2572.000000</td>\n",
       "      <td>...</td>\n",
       "      <td>2388.0</td>\n",
       "      <td>2388.0</td>\n",
       "      <td>2388.000000</td>\n",
       "      <td>2388.000000</td>\n",
       "      <td>1472.000000</td>\n",
       "      <td>582.000000</td>\n",
       "      <td>815.000000</td>\n",
       "      <td>2388.000000</td>\n",
       "      <td>2388.000000</td>\n",
       "      <td>2057.000000</td>\n",
       "    </tr>\n",
       "    <tr>\n",
       "      <th>mean</th>\n",
       "      <td>21.0</td>\n",
       "      <td>63414.942457</td>\n",
       "      <td>21210001.0</td>\n",
       "      <td>33.641913</td>\n",
       "      <td>1.301322</td>\n",
       "      <td>1.0</td>\n",
       "      <td>1.000778</td>\n",
       "      <td>49.090658</td>\n",
       "      <td>32.246597</td>\n",
       "      <td>193.284992</td>\n",
       "      <td>...</td>\n",
       "      <td>0.0</td>\n",
       "      <td>0.0</td>\n",
       "      <td>0.087940</td>\n",
       "      <td>0.025544</td>\n",
       "      <td>32898.739810</td>\n",
       "      <td>5420.609966</td>\n",
       "      <td>3471.501840</td>\n",
       "      <td>0.184255</td>\n",
       "      <td>0.004188</td>\n",
       "      <td>0.692270</td>\n",
       "    </tr>\n",
       "    <tr>\n",
       "      <th>std</th>\n",
       "      <td>0.0</td>\n",
       "      <td>22113.941599</td>\n",
       "      <td>0.0</td>\n",
       "      <td>9.089623</td>\n",
       "      <td>0.714760</td>\n",
       "      <td>0.0</td>\n",
       "      <td>0.027880</td>\n",
       "      <td>26.176144</td>\n",
       "      <td>11.531376</td>\n",
       "      <td>110.996680</td>\n",
       "      <td>...</td>\n",
       "      <td>0.0</td>\n",
       "      <td>0.0</td>\n",
       "      <td>0.416226</td>\n",
       "      <td>0.157805</td>\n",
       "      <td>41066.489101</td>\n",
       "      <td>8791.836300</td>\n",
       "      <td>7977.484235</td>\n",
       "      <td>0.446054</td>\n",
       "      <td>0.064590</td>\n",
       "      <td>0.461666</td>\n",
       "    </tr>\n",
       "    <tr>\n",
       "      <th>min</th>\n",
       "      <td>21.0</td>\n",
       "      <td>24176.000000</td>\n",
       "      <td>21210001.0</td>\n",
       "      <td>7.000000</td>\n",
       "      <td>1.000000</td>\n",
       "      <td>1.0</td>\n",
       "      <td>1.000000</td>\n",
       "      <td>1.000000</td>\n",
       "      <td>18.000000</td>\n",
       "      <td>0.000000</td>\n",
       "      <td>...</td>\n",
       "      <td>0.0</td>\n",
       "      <td>0.0</td>\n",
       "      <td>0.000000</td>\n",
       "      <td>0.000000</td>\n",
       "      <td>100.000000</td>\n",
       "      <td>300.000000</td>\n",
       "      <td>100.000000</td>\n",
       "      <td>0.000000</td>\n",
       "      <td>0.000000</td>\n",
       "      <td>0.000000</td>\n",
       "    </tr>\n",
       "    <tr>\n",
       "      <th>25%</th>\n",
       "      <td>21.0</td>\n",
       "      <td>44761.500000</td>\n",
       "      <td>21210001.0</td>\n",
       "      <td>30.000000</td>\n",
       "      <td>1.000000</td>\n",
       "      <td>1.0</td>\n",
       "      <td>1.000000</td>\n",
       "      <td>27.000000</td>\n",
       "      <td>24.000000</td>\n",
       "      <td>100.000000</td>\n",
       "      <td>...</td>\n",
       "      <td>0.0</td>\n",
       "      <td>0.0</td>\n",
       "      <td>0.000000</td>\n",
       "      <td>0.000000</td>\n",
       "      <td>5000.000000</td>\n",
       "      <td>1300.000000</td>\n",
       "      <td>300.000000</td>\n",
       "      <td>0.000000</td>\n",
       "      <td>0.000000</td>\n",
       "      <td>0.000000</td>\n",
       "    </tr>\n",
       "    <tr>\n",
       "      <th>50%</th>\n",
       "      <td>21.0</td>\n",
       "      <td>66149.000000</td>\n",
       "      <td>21210001.0</td>\n",
       "      <td>30.000000</td>\n",
       "      <td>1.000000</td>\n",
       "      <td>1.0</td>\n",
       "      <td>1.000000</td>\n",
       "      <td>49.000000</td>\n",
       "      <td>29.000000</td>\n",
       "      <td>199.000000</td>\n",
       "      <td>...</td>\n",
       "      <td>0.0</td>\n",
       "      <td>0.0</td>\n",
       "      <td>0.000000</td>\n",
       "      <td>0.000000</td>\n",
       "      <td>17321.000000</td>\n",
       "      <td>3000.000000</td>\n",
       "      <td>639.000000</td>\n",
       "      <td>0.000000</td>\n",
       "      <td>0.000000</td>\n",
       "      <td>1.000000</td>\n",
       "    </tr>\n",
       "    <tr>\n",
       "      <th>75%</th>\n",
       "      <td>21.0</td>\n",
       "      <td>82132.000000</td>\n",
       "      <td>21210001.0</td>\n",
       "      <td>30.000000</td>\n",
       "      <td>1.000000</td>\n",
       "      <td>1.0</td>\n",
       "      <td>1.000000</td>\n",
       "      <td>70.000000</td>\n",
       "      <td>38.000000</td>\n",
       "      <td>199.000000</td>\n",
       "      <td>...</td>\n",
       "      <td>0.0</td>\n",
       "      <td>0.0</td>\n",
       "      <td>0.000000</td>\n",
       "      <td>0.000000</td>\n",
       "      <td>47566.500000</td>\n",
       "      <td>5000.000000</td>\n",
       "      <td>2600.000000</td>\n",
       "      <td>0.000000</td>\n",
       "      <td>0.000000</td>\n",
       "      <td>1.000000</td>\n",
       "    </tr>\n",
       "    <tr>\n",
       "      <th>max</th>\n",
       "      <td>21.0</td>\n",
       "      <td>98862.000000</td>\n",
       "      <td>21210001.0</td>\n",
       "      <td>60.000000</td>\n",
       "      <td>10.000000</td>\n",
       "      <td>1.0</td>\n",
       "      <td>2.000000</td>\n",
       "      <td>99.000000</td>\n",
       "      <td>86.000000</td>\n",
       "      <td>500.000000</td>\n",
       "      <td>...</td>\n",
       "      <td>0.0</td>\n",
       "      <td>0.0</td>\n",
       "      <td>8.000000</td>\n",
       "      <td>1.000000</td>\n",
       "      <td>467048.000000</td>\n",
       "      <td>94670.000000</td>\n",
       "      <td>76541.000000</td>\n",
       "      <td>4.000000</td>\n",
       "      <td>1.000000</td>\n",
       "      <td>1.000000</td>\n",
       "    </tr>\n",
       "  </tbody>\n",
       "</table>\n",
       "<p>8 rows × 43 columns</p>\n",
       "</div>"
      ],
      "text/plain": [
       "       country_id  application_id  product_id   Variable_1   Variable_2  \\\n",
       "count      2572.0     2572.000000      2572.0  2572.000000  2572.000000   \n",
       "mean         21.0    63414.942457  21210001.0    33.641913     1.301322   \n",
       "std           0.0    22113.941599         0.0     9.089623     0.714760   \n",
       "min          21.0    24176.000000  21210001.0     7.000000     1.000000   \n",
       "25%          21.0    44761.500000  21210001.0    30.000000     1.000000   \n",
       "50%          21.0    66149.000000  21210001.0    30.000000     1.000000   \n",
       "75%          21.0    82132.000000  21210001.0    30.000000     1.000000   \n",
       "max          21.0    98862.000000  21210001.0    60.000000    10.000000   \n",
       "\n",
       "       Variable_3   Variable_4   Variable_6   Variable_7   Variable_8  ...  \\\n",
       "count      2572.0  2572.000000  2537.000000  2571.000000  2572.000000  ...   \n",
       "mean          1.0     1.000778    49.090658    32.246597   193.284992  ...   \n",
       "std           0.0     0.027880    26.176144    11.531376   110.996680  ...   \n",
       "min           1.0     1.000000     1.000000    18.000000     0.000000  ...   \n",
       "25%           1.0     1.000000    27.000000    24.000000   100.000000  ...   \n",
       "50%           1.0     1.000000    49.000000    29.000000   199.000000  ...   \n",
       "75%           1.0     1.000000    70.000000    38.000000   199.000000  ...   \n",
       "max           1.0     2.000000    99.000000    86.000000   500.000000  ...   \n",
       "\n",
       "       Variable_33  Variable_34  Variable_35  Variable_36    Variable_37  \\\n",
       "count       2388.0       2388.0  2388.000000  2388.000000    1472.000000   \n",
       "mean           0.0          0.0     0.087940     0.025544   32898.739810   \n",
       "std            0.0          0.0     0.416226     0.157805   41066.489101   \n",
       "min            0.0          0.0     0.000000     0.000000     100.000000   \n",
       "25%            0.0          0.0     0.000000     0.000000    5000.000000   \n",
       "50%            0.0          0.0     0.000000     0.000000   17321.000000   \n",
       "75%            0.0          0.0     0.000000     0.000000   47566.500000   \n",
       "max            0.0          0.0     8.000000     1.000000  467048.000000   \n",
       "\n",
       "        Variable_38   Variable_39  Variable_40  Variable_41       Target  \n",
       "count    582.000000    815.000000  2388.000000  2388.000000  2057.000000  \n",
       "mean    5420.609966   3471.501840     0.184255     0.004188     0.692270  \n",
       "std     8791.836300   7977.484235     0.446054     0.064590     0.461666  \n",
       "min      300.000000    100.000000     0.000000     0.000000     0.000000  \n",
       "25%     1300.000000    300.000000     0.000000     0.000000     0.000000  \n",
       "50%     3000.000000    639.000000     0.000000     0.000000     1.000000  \n",
       "75%     5000.000000   2600.000000     0.000000     0.000000     1.000000  \n",
       "max    94670.000000  76541.000000     4.000000     1.000000     1.000000  \n",
       "\n",
       "[8 rows x 43 columns]"
      ]
     },
     "execution_count": 11,
     "metadata": {},
     "output_type": "execute_result"
    }
   ],
   "source": [
    "data.describe()"
   ]
  },
  {
   "cell_type": "markdown",
   "metadata": {},
   "source": [
    "# Missing Data"
   ]
  },
  {
   "cell_type": "code",
   "execution_count": 12,
   "metadata": {},
   "outputs": [
    {
     "data": {
      "text/html": [
       "<div>\n",
       "<style scoped>\n",
       "    .dataframe tbody tr th:only-of-type {\n",
       "        vertical-align: middle;\n",
       "    }\n",
       "\n",
       "    .dataframe tbody tr th {\n",
       "        vertical-align: top;\n",
       "    }\n",
       "\n",
       "    .dataframe thead th {\n",
       "        text-align: right;\n",
       "    }\n",
       "</style>\n",
       "<table border=\"1\" class=\"dataframe\">\n",
       "  <thead>\n",
       "    <tr style=\"text-align: right;\">\n",
       "      <th></th>\n",
       "      <th>Total</th>\n",
       "      <th>Emptyness Percentage</th>\n",
       "    </tr>\n",
       "  </thead>\n",
       "  <tbody>\n",
       "    <tr>\n",
       "      <th>Variable_42</th>\n",
       "      <td>2463</td>\n",
       "      <td>0.957621</td>\n",
       "    </tr>\n",
       "    <tr>\n",
       "      <th>Variable_43</th>\n",
       "      <td>2424</td>\n",
       "      <td>0.942457</td>\n",
       "    </tr>\n",
       "    <tr>\n",
       "      <th>Variable_44</th>\n",
       "      <td>2371</td>\n",
       "      <td>0.921851</td>\n",
       "    </tr>\n",
       "    <tr>\n",
       "      <th>Variable_21</th>\n",
       "      <td>1990</td>\n",
       "      <td>0.773717</td>\n",
       "    </tr>\n",
       "    <tr>\n",
       "      <th>Variable_38</th>\n",
       "      <td>1990</td>\n",
       "      <td>0.773717</td>\n",
       "    </tr>\n",
       "    <tr>\n",
       "      <th>Variable_22</th>\n",
       "      <td>1757</td>\n",
       "      <td>0.683126</td>\n",
       "    </tr>\n",
       "    <tr>\n",
       "      <th>Variable_39</th>\n",
       "      <td>1757</td>\n",
       "      <td>0.683126</td>\n",
       "    </tr>\n",
       "    <tr>\n",
       "      <th>Variable_37</th>\n",
       "      <td>1100</td>\n",
       "      <td>0.427683</td>\n",
       "    </tr>\n",
       "    <tr>\n",
       "      <th>Variable_20</th>\n",
       "      <td>1100</td>\n",
       "      <td>0.427683</td>\n",
       "    </tr>\n",
       "    <tr>\n",
       "      <th>Target</th>\n",
       "      <td>515</td>\n",
       "      <td>0.200233</td>\n",
       "    </tr>\n",
       "  </tbody>\n",
       "</table>\n",
       "</div>"
      ],
      "text/plain": [
       "             Total  Emptyness Percentage\n",
       "Variable_42   2463              0.957621\n",
       "Variable_43   2424              0.942457\n",
       "Variable_44   2371              0.921851\n",
       "Variable_21   1990              0.773717\n",
       "Variable_38   1990              0.773717\n",
       "Variable_22   1757              0.683126\n",
       "Variable_39   1757              0.683126\n",
       "Variable_37   1100              0.427683\n",
       "Variable_20   1100              0.427683\n",
       "Target         515              0.200233"
      ]
     },
     "execution_count": 12,
     "metadata": {},
     "output_type": "execute_result"
    }
   ],
   "source": [
    "total = data.isnull().sum().sort_values(ascending=False)\n",
    "percent = (data.isnull().sum()/data.isnull().count()).sort_values(ascending=False)\n",
    "missing_data = pd.concat([total, percent], axis=1, keys=['Total', 'Emptyness Percentage'])\n",
    "missing_data.head(10)"
   ]
  },
  {
   "cell_type": "markdown",
   "metadata": {},
   "source": [
    "Conclusion: consider to remove comumns for which emptyness is >= 90%"
   ]
  },
  {
   "cell_type": "markdown",
   "metadata": {},
   "source": [
    "# Target Exploration"
   ]
  },
  {
   "cell_type": "code",
   "execution_count": 13,
   "metadata": {},
   "outputs": [
    {
     "data": {
      "text/plain": [
       "1.0    1424\n",
       "0.0     633\n",
       "NaN     515\n",
       "Name: Target, dtype: int64"
      ]
     },
     "execution_count": 13,
     "metadata": {},
     "output_type": "execute_result"
    }
   ],
   "source": [
    "data['Target'].value_counts(dropna=False)"
   ]
  },
  {
   "cell_type": "markdown",
   "metadata": {},
   "source": [
    "The 512 unknown are the rows whose prediction I will return to Ferratum"
   ]
  },
  {
   "cell_type": "raw",
   "metadata": {},
   "source": [
    "There are 2057 usable samples. The Positive rate among them is 69.22%"
   ]
  },
  {
   "cell_type": "markdown",
   "metadata": {},
   "source": [
    "# Categorical Exploration"
   ]
  },
  {
   "cell_type": "code",
   "execution_count": 15,
   "metadata": {},
   "outputs": [
    {
     "data": {
      "text/plain": [
       "Variable_5      object\n",
       "Variable_6     float64\n",
       "Variable_12    float64\n",
       "Variable_45     object\n",
       "dtype: object"
      ]
     },
     "execution_count": 15,
     "metadata": {},
     "output_type": "execute_result"
    }
   ],
   "source": [
    "data[categoricals].dtypes"
   ]
  },
  {
   "cell_type": "code",
   "execution_count": 16,
   "metadata": {},
   "outputs": [
    {
     "data": {
      "text/html": [
       "<div>\n",
       "<style scoped>\n",
       "    .dataframe tbody tr th:only-of-type {\n",
       "        vertical-align: middle;\n",
       "    }\n",
       "\n",
       "    .dataframe tbody tr th {\n",
       "        vertical-align: top;\n",
       "    }\n",
       "\n",
       "    .dataframe thead th {\n",
       "        text-align: right;\n",
       "    }\n",
       "</style>\n",
       "<table border=\"1\" class=\"dataframe\">\n",
       "  <thead>\n",
       "    <tr style=\"text-align: right;\">\n",
       "      <th>Target</th>\n",
       "      <th>0.0</th>\n",
       "      <th>1.0</th>\n",
       "    </tr>\n",
       "    <tr>\n",
       "      <th>Variable_5</th>\n",
       "      <th></th>\n",
       "      <th></th>\n",
       "    </tr>\n",
       "  </thead>\n",
       "  <tbody>\n",
       "    <tr>\n",
       "      <th>N</th>\n",
       "      <td>0.30773</td>\n",
       "      <td>0.69227</td>\n",
       "    </tr>\n",
       "  </tbody>\n",
       "</table>\n",
       "</div>"
      ],
      "text/plain": [
       "Target          0.0      1.0\n",
       "Variable_5                  \n",
       "N           0.30773  0.69227"
      ]
     },
     "execution_count": 16,
     "metadata": {},
     "output_type": "execute_result"
    }
   ],
   "source": [
    "pd.crosstab(data['Variable_5'], data.Target, normalize='index')"
   ]
  },
  {
   "cell_type": "code",
   "execution_count": 17,
   "metadata": {},
   "outputs": [
    {
     "data": {
      "text/html": [
       "<div>\n",
       "<style scoped>\n",
       "    .dataframe tbody tr th:only-of-type {\n",
       "        vertical-align: middle;\n",
       "    }\n",
       "\n",
       "    .dataframe tbody tr th {\n",
       "        vertical-align: top;\n",
       "    }\n",
       "\n",
       "    .dataframe thead th {\n",
       "        text-align: right;\n",
       "    }\n",
       "</style>\n",
       "<table border=\"1\" class=\"dataframe\">\n",
       "  <thead>\n",
       "    <tr style=\"text-align: right;\">\n",
       "      <th>Target</th>\n",
       "      <th>0.0</th>\n",
       "      <th>1.0</th>\n",
       "    </tr>\n",
       "    <tr>\n",
       "      <th>Variable_6</th>\n",
       "      <th></th>\n",
       "      <th></th>\n",
       "    </tr>\n",
       "  </thead>\n",
       "  <tbody>\n",
       "    <tr>\n",
       "      <th>1.0</th>\n",
       "      <td>0.350000</td>\n",
       "      <td>0.650000</td>\n",
       "    </tr>\n",
       "    <tr>\n",
       "      <th>2.0</th>\n",
       "      <td>0.555556</td>\n",
       "      <td>0.444444</td>\n",
       "    </tr>\n",
       "    <tr>\n",
       "      <th>3.0</th>\n",
       "      <td>0.500000</td>\n",
       "      <td>0.500000</td>\n",
       "    </tr>\n",
       "    <tr>\n",
       "      <th>4.0</th>\n",
       "      <td>0.333333</td>\n",
       "      <td>0.666667</td>\n",
       "    </tr>\n",
       "    <tr>\n",
       "      <th>6.0</th>\n",
       "      <td>0.240000</td>\n",
       "      <td>0.760000</td>\n",
       "    </tr>\n",
       "    <tr>\n",
       "      <th>7.0</th>\n",
       "      <td>0.111111</td>\n",
       "      <td>0.888889</td>\n",
       "    </tr>\n",
       "    <tr>\n",
       "      <th>8.0</th>\n",
       "      <td>0.000000</td>\n",
       "      <td>1.000000</td>\n",
       "    </tr>\n",
       "    <tr>\n",
       "      <th>9.0</th>\n",
       "      <td>0.285714</td>\n",
       "      <td>0.714286</td>\n",
       "    </tr>\n",
       "    <tr>\n",
       "      <th>10.0</th>\n",
       "      <td>0.210526</td>\n",
       "      <td>0.789474</td>\n",
       "    </tr>\n",
       "    <tr>\n",
       "      <th>11.0</th>\n",
       "      <td>1.000000</td>\n",
       "      <td>0.000000</td>\n",
       "    </tr>\n",
       "  </tbody>\n",
       "</table>\n",
       "</div>"
      ],
      "text/plain": [
       "Target           0.0       1.0\n",
       "Variable_6                    \n",
       "1.0         0.350000  0.650000\n",
       "2.0         0.555556  0.444444\n",
       "3.0         0.500000  0.500000\n",
       "4.0         0.333333  0.666667\n",
       "6.0         0.240000  0.760000\n",
       "7.0         0.111111  0.888889\n",
       "8.0         0.000000  1.000000\n",
       "9.0         0.285714  0.714286\n",
       "10.0        0.210526  0.789474\n",
       "11.0        1.000000  0.000000"
      ]
     },
     "execution_count": 17,
     "metadata": {},
     "output_type": "execute_result"
    }
   ],
   "source": [
    "pd.crosstab(data['Variable_6'], data.Target, normalize='index').head(10)"
   ]
  },
  {
   "cell_type": "code",
   "execution_count": 18,
   "metadata": {},
   "outputs": [
    {
     "data": {
      "text/html": [
       "<div>\n",
       "<style scoped>\n",
       "    .dataframe tbody tr th:only-of-type {\n",
       "        vertical-align: middle;\n",
       "    }\n",
       "\n",
       "    .dataframe tbody tr th {\n",
       "        vertical-align: top;\n",
       "    }\n",
       "\n",
       "    .dataframe thead th {\n",
       "        text-align: right;\n",
       "    }\n",
       "</style>\n",
       "<table border=\"1\" class=\"dataframe\">\n",
       "  <thead>\n",
       "    <tr style=\"text-align: right;\">\n",
       "      <th>Target</th>\n",
       "      <th>0.0</th>\n",
       "      <th>1.0</th>\n",
       "    </tr>\n",
       "    <tr>\n",
       "      <th>Variable_12</th>\n",
       "      <th></th>\n",
       "      <th></th>\n",
       "    </tr>\n",
       "  </thead>\n",
       "  <tbody>\n",
       "    <tr>\n",
       "      <th>0.0</th>\n",
       "      <td>0.151671</td>\n",
       "      <td>0.848329</td>\n",
       "    </tr>\n",
       "    <tr>\n",
       "      <th>15.0</th>\n",
       "      <td>0.348189</td>\n",
       "      <td>0.651811</td>\n",
       "    </tr>\n",
       "    <tr>\n",
       "      <th>22.5</th>\n",
       "      <td>0.181818</td>\n",
       "      <td>0.818182</td>\n",
       "    </tr>\n",
       "    <tr>\n",
       "      <th>31.5</th>\n",
       "      <td>0.000000</td>\n",
       "      <td>1.000000</td>\n",
       "    </tr>\n",
       "    <tr>\n",
       "      <th>45.0</th>\n",
       "      <td>0.349442</td>\n",
       "      <td>0.650558</td>\n",
       "    </tr>\n",
       "    <tr>\n",
       "      <th>99.0</th>\n",
       "      <td>0.321267</td>\n",
       "      <td>0.678733</td>\n",
       "    </tr>\n",
       "  </tbody>\n",
       "</table>\n",
       "</div>"
      ],
      "text/plain": [
       "Target            0.0       1.0\n",
       "Variable_12                    \n",
       "0.0          0.151671  0.848329\n",
       "15.0         0.348189  0.651811\n",
       "22.5         0.181818  0.818182\n",
       "31.5         0.000000  1.000000\n",
       "45.0         0.349442  0.650558\n",
       "99.0         0.321267  0.678733"
      ]
     },
     "execution_count": 18,
     "metadata": {},
     "output_type": "execute_result"
    }
   ],
   "source": [
    "pd.crosstab(data['Variable_12'], data.Target, normalize='index')"
   ]
  },
  {
   "cell_type": "code",
   "execution_count": 19,
   "metadata": {},
   "outputs": [
    {
     "data": {
      "text/html": [
       "<div>\n",
       "<style scoped>\n",
       "    .dataframe tbody tr th:only-of-type {\n",
       "        vertical-align: middle;\n",
       "    }\n",
       "\n",
       "    .dataframe tbody tr th {\n",
       "        vertical-align: top;\n",
       "    }\n",
       "\n",
       "    .dataframe thead th {\n",
       "        text-align: right;\n",
       "    }\n",
       "</style>\n",
       "<table border=\"1\" class=\"dataframe\">\n",
       "  <thead>\n",
       "    <tr style=\"text-align: right;\">\n",
       "      <th>Target</th>\n",
       "      <th>0.0</th>\n",
       "      <th>1.0</th>\n",
       "    </tr>\n",
       "    <tr>\n",
       "      <th>Variable_45</th>\n",
       "      <th></th>\n",
       "      <th></th>\n",
       "    </tr>\n",
       "  </thead>\n",
       "  <tbody>\n",
       "    <tr>\n",
       "      <th>?</th>\n",
       "      <td>0.285714</td>\n",
       "      <td>0.714286</td>\n",
       "    </tr>\n",
       "    <tr>\n",
       "      <th>F</th>\n",
       "      <td>0.285124</td>\n",
       "      <td>0.714876</td>\n",
       "    </tr>\n",
       "    <tr>\n",
       "      <th>M</th>\n",
       "      <td>0.320242</td>\n",
       "      <td>0.679758</td>\n",
       "    </tr>\n",
       "  </tbody>\n",
       "</table>\n",
       "</div>"
      ],
      "text/plain": [
       "Target            0.0       1.0\n",
       "Variable_45                    \n",
       "?            0.285714  0.714286\n",
       "F            0.285124  0.714876\n",
       "M            0.320242  0.679758"
      ]
     },
     "execution_count": 19,
     "metadata": {},
     "output_type": "execute_result"
    }
   ],
   "source": [
    "pd.crosstab(data['Variable_45'], data.Target, normalize='index')"
   ]
  },
  {
   "cell_type": "markdown",
   "metadata": {},
   "source": [
    "Conclusion: categorical variables are already encoded into integers except: \n",
    "- Variable_45 that inddicates the sex, change ? with unknown\n",
    "- Variable_5 has only value N"
   ]
  },
  {
   "cell_type": "markdown",
   "metadata": {},
   "source": [
    "# Numerical features"
   ]
  },
  {
   "cell_type": "code",
   "execution_count": 20,
   "metadata": {},
   "outputs": [],
   "source": [
    "#Check outliars Z score?\n",
    "#What to do with correlated features"
   ]
  },
  {
   "cell_type": "markdown",
   "metadata": {},
   "source": [
    "# Ordinal Features"
   ]
  },
  {
   "cell_type": "code",
   "execution_count": 21,
   "metadata": {},
   "outputs": [
    {
     "data": {
      "text/plain": [
       "['Variable_13', 'Variable_14']"
      ]
     },
     "execution_count": 21,
     "metadata": {},
     "output_type": "execute_result"
    }
   ],
   "source": [
    "ordinals"
   ]
  },
  {
   "cell_type": "code",
   "execution_count": 22,
   "metadata": {},
   "outputs": [
    {
     "data": {
      "text/plain": [
       "G    447\n",
       "H    414\n",
       "I    318\n",
       "M    312\n",
       "F    278\n",
       "L    161\n",
       "E    146\n",
       "K    125\n",
       "D    113\n",
       "B     91\n",
       "C     74\n",
       "A     28\n",
       "Name: Variable_13, dtype: int64"
      ]
     },
     "execution_count": 22,
     "metadata": {},
     "output_type": "execute_result"
    }
   ],
   "source": [
    "data.Variable_13.value_counts()"
   ]
  },
  {
   "cell_type": "code",
   "execution_count": 23,
   "metadata": {},
   "outputs": [
    {
     "data": {
      "text/plain": [
       "RATINGSTUFE G    447\n",
       "RATINGSTUFE H    414\n",
       "RATINGSTUFE I    318\n",
       "RATINGSTUFE M    312\n",
       "RATINGSTUFE F    278\n",
       "RATINGSTUFE L    161\n",
       "RATINGSTUFE E    146\n",
       "RATINGSTUFE K    125\n",
       "RATINGSTUFE D    113\n",
       "RATINGSTUFE B     91\n",
       "RATINGSTUFE C     74\n",
       "RATINGSTUFE A     28\n",
       "Name: Variable_14, dtype: int64"
      ]
     },
     "execution_count": 23,
     "metadata": {},
     "output_type": "execute_result"
    }
   ],
   "source": [
    "data.Variable_14.value_counts()"
   ]
  },
  {
   "cell_type": "markdown",
   "metadata": {},
   "source": [
    "# Date Features"
   ]
  },
  {
   "cell_type": "code",
   "execution_count": 24,
   "metadata": {},
   "outputs": [
    {
     "data": {
      "text/plain": [
       "['due_date',\n",
       " 'first_status_day_date',\n",
       " 'first_status_time_of_day',\n",
       " 'paid_date',\n",
       " 'arrived_date',\n",
       " 'Variable_42',\n",
       " 'Variable_43',\n",
       " 'Variable_44']"
      ]
     },
     "execution_count": 24,
     "metadata": {},
     "output_type": "execute_result"
    }
   ],
   "source": [
    "dates"
   ]
  },
  {
   "cell_type": "code",
   "execution_count": 25,
   "metadata": {},
   "outputs": [],
   "source": [
    "for date in dates:\n",
    "    data[date] = pd.to_datetime(data[date])"
   ]
  },
  {
   "cell_type": "code",
   "execution_count": 64,
   "metadata": {},
   "outputs": [
    {
     "data": {
      "text/html": [
       "<div>\n",
       "<style scoped>\n",
       "    .dataframe tbody tr th:only-of-type {\n",
       "        vertical-align: middle;\n",
       "    }\n",
       "\n",
       "    .dataframe tbody tr th {\n",
       "        vertical-align: top;\n",
       "    }\n",
       "\n",
       "    .dataframe thead th {\n",
       "        text-align: right;\n",
       "    }\n",
       "</style>\n",
       "<table border=\"1\" class=\"dataframe\">\n",
       "  <thead>\n",
       "    <tr style=\"text-align: right;\">\n",
       "      <th></th>\n",
       "      <th>due_date</th>\n",
       "      <th>first_status_day_date</th>\n",
       "      <th>first_status_time_of_day</th>\n",
       "      <th>paid_date</th>\n",
       "      <th>arrived_date</th>\n",
       "      <th>Variable_42</th>\n",
       "      <th>Variable_43</th>\n",
       "      <th>Variable_44</th>\n",
       "    </tr>\n",
       "  </thead>\n",
       "  <tbody>\n",
       "    <tr>\n",
       "      <th>0</th>\n",
       "      <td>2015-07-07</td>\n",
       "      <td>2015-01-06</td>\n",
       "      <td>2019-04-05 00:43:22</td>\n",
       "      <td>2015-02-06</td>\n",
       "      <td>2015-01-06 00:43:00</td>\n",
       "      <td>NaT</td>\n",
       "      <td>NaT</td>\n",
       "      <td>2013-06-14</td>\n",
       "    </tr>\n",
       "    <tr>\n",
       "      <th>1</th>\n",
       "      <td>2015-02-07</td>\n",
       "      <td>2015-01-06</td>\n",
       "      <td>2019-04-05 07:56:36</td>\n",
       "      <td>2015-02-06</td>\n",
       "      <td>2015-01-06 07:56:00</td>\n",
       "      <td>NaT</td>\n",
       "      <td>NaT</td>\n",
       "      <td>NaT</td>\n",
       "    </tr>\n",
       "    <tr>\n",
       "      <th>2</th>\n",
       "      <td>2015-02-07</td>\n",
       "      <td>2015-01-06</td>\n",
       "      <td>2019-04-05 11:02:04</td>\n",
       "      <td>2015-02-06</td>\n",
       "      <td>2015-01-06 11:02:00</td>\n",
       "      <td>NaT</td>\n",
       "      <td>NaT</td>\n",
       "      <td>NaT</td>\n",
       "    </tr>\n",
       "    <tr>\n",
       "      <th>3</th>\n",
       "      <td>2015-07-17</td>\n",
       "      <td>2015-01-06</td>\n",
       "      <td>2019-04-05 11:22:37</td>\n",
       "      <td>2015-06-17</td>\n",
       "      <td>2015-01-06 11:22:00</td>\n",
       "      <td>NaT</td>\n",
       "      <td>NaT</td>\n",
       "      <td>NaT</td>\n",
       "    </tr>\n",
       "    <tr>\n",
       "      <th>4</th>\n",
       "      <td>2015-02-07</td>\n",
       "      <td>2015-01-06</td>\n",
       "      <td>2019-04-05 15:27:18</td>\n",
       "      <td>2015-02-06</td>\n",
       "      <td>2015-01-06 15:27:00</td>\n",
       "      <td>NaT</td>\n",
       "      <td>NaT</td>\n",
       "      <td>NaT</td>\n",
       "    </tr>\n",
       "  </tbody>\n",
       "</table>\n",
       "</div>"
      ],
      "text/plain": [
       "    due_date first_status_day_date first_status_time_of_day  paid_date  \\\n",
       "0 2015-07-07            2015-01-06      2019-04-05 00:43:22 2015-02-06   \n",
       "1 2015-02-07            2015-01-06      2019-04-05 07:56:36 2015-02-06   \n",
       "2 2015-02-07            2015-01-06      2019-04-05 11:02:04 2015-02-06   \n",
       "3 2015-07-17            2015-01-06      2019-04-05 11:22:37 2015-06-17   \n",
       "4 2015-02-07            2015-01-06      2019-04-05 15:27:18 2015-02-06   \n",
       "\n",
       "         arrived_date Variable_42 Variable_43 Variable_44  \n",
       "0 2015-01-06 00:43:00         NaT         NaT  2013-06-14  \n",
       "1 2015-01-06 07:56:00         NaT         NaT         NaT  \n",
       "2 2015-01-06 11:02:00         NaT         NaT         NaT  \n",
       "3 2015-01-06 11:22:00         NaT         NaT         NaT  \n",
       "4 2015-01-06 15:27:00         NaT         NaT         NaT  "
      ]
     },
     "execution_count": 64,
     "metadata": {},
     "output_type": "execute_result"
    }
   ],
   "source": [
    "data[dates].head()"
   ]
  },
  {
   "cell_type": "code",
   "execution_count": 30,
   "metadata": {},
   "outputs": [
    {
     "data": {
      "text/plain": [
       "<matplotlib.axes._subplots.AxesSubplot at 0x1a216d35c0>"
      ]
     },
     "execution_count": 30,
     "metadata": {},
     "output_type": "execute_result"
    },
    {
     "data": {
      "image/png": "[encoded data removed]",
      "text/plain": [
       "<Figure size 1080x504 with 1 Axes>"
      ]
     },
     "metadata": {
      "needs_background": "light"
     },
     "output_type": "display_data"
    }
   ],
   "source": [
    "plt.figure(figsize=(15,7))\n",
    "data.groupby([data['due_date'].dt.year, data['due_date'].dt.month])['due_date'].count().plot(kind=\"bar\")"
   ]
  },
  {
   "cell_type": "code",
   "execution_count": 31,
   "metadata": {},
   "outputs": [
    {
     "data": {
      "text/plain": [
       "<matplotlib.axes._subplots.AxesSubplot at 0x1a217a4ef0>"
      ]
     },
     "execution_count": 31,
     "metadata": {},
     "output_type": "execute_result"
    },
    {
     "data": {
      "image/png": "[encoded data removed]",
      "text/plain": [
       "<Figure size 1080x504 with 1 Axes>"
      ]
     },
     "metadata": {
      "needs_background": "light"
     },
     "output_type": "display_data"
    }
   ],
   "source": [
    "plt.figure(figsize=(15,7))\n",
    "data.groupby([data['first_status_day_date'].dt.year, data['first_status_day_date'].dt.month])['first_status_day_date'].count().plot(kind=\"bar\")"
   ]
  },
  {
   "cell_type": "code",
   "execution_count": 62,
   "metadata": {},
   "outputs": [
    {
     "data": {
      "text/plain": [
       "0   2015-01-06\n",
       "1   2015-01-06\n",
       "2   2015-01-06\n",
       "3   2015-01-06\n",
       "4   2015-01-06\n",
       "Name: first_status_day_date, dtype: datetime64[ns]"
      ]
     },
     "execution_count": 62,
     "metadata": {},
     "output_type": "execute_result"
    }
   ],
   "source": [
    "data['first_status_day_date'].head()"
   ]
  },
  {
   "cell_type": "code",
   "execution_count": 32,
   "metadata": {},
   "outputs": [
    {
     "data": {
      "text/plain": [
       "<matplotlib.axes._subplots.AxesSubplot at 0x1a21bce2e8>"
      ]
     },
     "execution_count": 32,
     "metadata": {},
     "output_type": "execute_result"
    },
    {
     "data": {
      "image/png": "[encoded data removed]",
      "text/plain": [
       "<Figure size 1080x504 with 1 Axes>"
      ]
     },
     "metadata": {
      "needs_background": "light"
     },
     "output_type": "display_data"
    }
   ],
   "source": [
    "plt.figure(figsize=(15,7))\n",
    "data.groupby([data['first_status_time_of_day'].dt.year, data['first_status_time_of_day'].dt.month])['first_status_time_of_day'].count().plot(kind=\"bar\")"
   ]
  },
  {
   "cell_type": "code",
   "execution_count": 39,
   "metadata": {},
   "outputs": [
    {
     "data": {
      "text/plain": [
       "2019-04-05 13:31:13    3\n",
       "2019-04-05 17:29:18    2\n",
       "2019-04-05 16:24:17    2\n",
       "2019-04-05 13:22:57    2\n",
       "2019-04-05 15:26:09    2\n",
       "Name: first_status_time_of_day, dtype: int64"
      ]
     },
     "execution_count": 39,
     "metadata": {},
     "output_type": "execute_result"
    }
   ],
   "source": [
    "data['first_status_time_of_day'].value_counts().head()"
   ]
  },
  {
   "cell_type": "code",
   "execution_count": 33,
   "metadata": {},
   "outputs": [
    {
     "data": {
      "text/plain": [
       "<matplotlib.axes._subplots.AxesSubplot at 0x1a21fde0f0>"
      ]
     },
     "execution_count": 33,
     "metadata": {},
     "output_type": "execute_result"
    },
    {
     "data": {
      "image/png": "[encoded data removed]",
      "text/plain": [
       "<Figure size 1080x504 with 1 Axes>"
      ]
     },
     "metadata": {
      "needs_background": "light"
     },
     "output_type": "display_data"
    }
   ],
   "source": [
    "plt.figure(figsize=(15,7))\n",
    "data.groupby([data['paid_date'].dt.year, data['paid_date'].dt.month])['paid_date'].count().plot(kind=\"bar\")"
   ]
  },
  {
   "cell_type": "code",
   "execution_count": 34,
   "metadata": {},
   "outputs": [
    {
     "data": {
      "text/plain": [
       "<matplotlib.axes._subplots.AxesSubplot at 0x1a21f4ca20>"
      ]
     },
     "execution_count": 34,
     "metadata": {},
     "output_type": "execute_result"
    },
    {
     "data": {
      "image/png": "[encoded data removed]",
      "text/plain": [
       "<Figure size 1080x504 with 1 Axes>"
      ]
     },
     "metadata": {
      "needs_background": "light"
     },
     "output_type": "display_data"
    }
   ],
   "source": [
    "plt.figure(figsize=(15,7))\n",
    "data.groupby([data['arrived_date'].dt.year, data['arrived_date'].dt.month])['arrived_date'].count().plot(kind=\"bar\")"
   ]
  },
  {
   "cell_type": "code",
   "execution_count": 35,
   "metadata": {},
   "outputs": [
    {
     "data": {
      "text/plain": [
       "<matplotlib.axes._subplots.AxesSubplot at 0x1a22f12d30>"
      ]
     },
     "execution_count": 35,
     "metadata": {},
     "output_type": "execute_result"
    },
    {
     "data": {
      "image/png": "[encoded data removed]",
      "text/plain": [
       "<Figure size 1080x504 with 1 Axes>"
      ]
     },
     "metadata": {
      "needs_background": "light"
     },
     "output_type": "display_data"
    }
   ],
   "source": [
    "plt.figure(figsize=(15,7))\n",
    "data.groupby([data['Variable_42'].dt.year, data['Variable_42'].dt.month])['Variable_42'].count().plot(kind=\"bar\")"
   ]
  },
  {
   "cell_type": "code",
   "execution_count": 36,
   "metadata": {},
   "outputs": [
    {
     "data": {
      "text/plain": [
       "<matplotlib.axes._subplots.AxesSubplot at 0x1a22f125f8>"
      ]
     },
     "execution_count": 36,
     "metadata": {},
     "output_type": "execute_result"
    },
    {
     "data": {
      "image/png": "[encoded data removed]",
      "text/plain": [
       "<Figure size 1080x504 with 1 Axes>"
      ]
     },
     "metadata": {
      "needs_background": "light"
     },
     "output_type": "display_data"
    }
   ],
   "source": [
    "plt.figure(figsize=(15,7))\n",
    "data.groupby([data['Variable_43'].dt.year, data['Variable_43'].dt.month])['Variable_43'].count().plot(kind=\"bar\")"
   ]
  },
  {
   "cell_type": "code",
   "execution_count": 37,
   "metadata": {},
   "outputs": [
    {
     "data": {
      "text/plain": [
       "<matplotlib.axes._subplots.AxesSubplot at 0x1a23404898>"
      ]
     },
     "execution_count": 37,
     "metadata": {},
     "output_type": "execute_result"
    },
    {
     "data": {
      "image/png": "[encoded data removed]",
      "text/plain": [
       "<Figure size 1080x504 with 1 Axes>"
      ]
     },
     "metadata": {
      "needs_background": "light"
     },
     "output_type": "display_data"
    }
   ],
   "source": [
    "plt.figure(figsize=(15,7))\n",
    "data.groupby([data['Variable_44'].dt.year, data['Variable_44'].dt.month])['Variable_44'].count().plot(kind=\"bar\")"
   ]
  },
  {
   "cell_type": "markdown",
   "metadata": {},
   "source": [
    "Conclusion: first_status_time_of_day happens the same day take the hours"
   ]
  },
  {
   "cell_type": "markdown",
   "metadata": {},
   "source": [
    "# IDs"
   ]
  },
  {
   "cell_type": "code",
   "execution_count": 41,
   "metadata": {},
   "outputs": [
    {
     "data": {
      "text/plain": [
       "['country_id', 'application_id', 'product_id', 'customer_id']"
      ]
     },
     "execution_count": 41,
     "metadata": {},
     "output_type": "execute_result"
    }
   ],
   "source": [
    "ids"
   ]
  },
  {
   "cell_type": "code",
   "execution_count": 44,
   "metadata": {},
   "outputs": [
    {
     "data": {
      "text/plain": [
       "(2572, 55)"
      ]
     },
     "execution_count": 44,
     "metadata": {},
     "output_type": "execute_result"
    }
   ],
   "source": [
    "data.shape"
   ]
  },
  {
   "cell_type": "code",
   "execution_count": 51,
   "metadata": {},
   "outputs": [
    {
     "data": {
      "text/plain": [
       "1"
      ]
     },
     "execution_count": 51,
     "metadata": {},
     "output_type": "execute_result"
    }
   ],
   "source": [
    "data.country_id.nunique()"
   ]
  },
  {
   "cell_type": "code",
   "execution_count": 50,
   "metadata": {},
   "outputs": [
    {
     "data": {
      "text/plain": [
       "2572"
      ]
     },
     "execution_count": 50,
     "metadata": {},
     "output_type": "execute_result"
    }
   ],
   "source": [
    "data.application_id.nunique()"
   ]
  },
  {
   "cell_type": "code",
   "execution_count": 52,
   "metadata": {},
   "outputs": [
    {
     "data": {
      "text/plain": [
       "1"
      ]
     },
     "execution_count": 52,
     "metadata": {},
     "output_type": "execute_result"
    }
   ],
   "source": [
    "data.product_id.nunique()"
   ]
  },
  {
   "cell_type": "code",
   "execution_count": 53,
   "metadata": {},
   "outputs": [
    {
     "data": {
      "text/plain": [
       "2572"
      ]
     },
     "execution_count": 53,
     "metadata": {},
     "output_type": "execute_result"
    }
   ],
   "source": [
    "data.customer_id.nunique()"
   ]
  },
  {
   "cell_type": "code",
   "execution_count": 60,
   "metadata": {},
   "outputs": [
    {
     "data": {
      "text/plain": [
       "(2572, 53)"
      ]
     },
     "execution_count": 60,
     "metadata": {},
     "output_type": "execute_result"
    }
   ],
   "source": [
    "data.groupby(['application_id','customer_id']).last().shape"
   ]
  },
  {
   "cell_type": "markdown",
   "metadata": {},
   "source": [
    "Conclusion: country_id and product_id are all the time the same. The couples customer_id and product_id are unique. Drop them before training"
   ]
  },
  {
   "cell_type": "code",
   "execution_count": null,
   "metadata": {},
   "outputs": [],
   "source": []
  }
 ],
 "metadata": {
  "kernelspec": {
   "display_name": "Python 3",
   "language": "python",
   "name": "python3"
  },
  "language_info": {
   "codemirror_mode": {
    "name": "ipython",
    "version": 3
   },
   "file_extension": ".py",
   "mimetype": "text/x-python",
   "name": "python",
   "nbconvert_exporter": "python",
   "pygments_lexer": "ipython3",
   "version": "3.6.8"
  }
 },
 "nbformat": 4,
 "nbformat_minor": 2
}
