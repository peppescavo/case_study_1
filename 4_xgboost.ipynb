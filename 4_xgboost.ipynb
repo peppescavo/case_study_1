{
 "cells": [
  {
   "cell_type": "markdown",
   "metadata": {},
   "source": [
    "# XGBOOST Tuning WARNING TO BE DONE ON A VALIDATION SET"
   ]
  },
  {
   "cell_type": "code",
   "execution_count": 90,
   "metadata": {},
   "outputs": [],
   "source": [
    "import pandas as pd\n",
    "import numpy as np\n",
    "from xgboost import XGBClassifier\n",
    "from sklearn.metrics import roc_auc_score\n",
    "import xgboost as xgb\n",
    "from sklearn.model_selection import train_test_split, GridSearchCV"
   ]
  },
  {
   "cell_type": "code",
   "execution_count": 92,
   "metadata": {},
   "outputs": [],
   "source": [
    "preprocessed_train_set = pd.read_csv('data/preprocessed_train_set.csv', sep=';')\n",
    "train_target = pd.read_csv('data/train_target.csv', sep=';')\n",
    "\n",
    "preprocessed_test_set = pd.read_csv('data/preprocessed_test_set.csv', sep=';')\n",
    "test_target = pd.read_csv('data/test_target.csv', sep=';')"
   ]
  },
  {
   "cell_type": "code",
   "execution_count": 93,
   "metadata": {},
   "outputs": [],
   "source": [
    "ids = ['application_id','customer_id']\n",
    "train_ids = preprocessed_train_set[ids]\n",
    "test_ids = preprocessed_test_set[ids]\n",
    "\n",
    "preprocessed_train_set = preprocessed_train_set.drop(ids, 1)\n",
    "preprocessed_test_set = preprocessed_test_set.drop(ids, 1)"
   ]
  },
  {
   "cell_type": "code",
   "execution_count": 94,
   "metadata": {},
   "outputs": [],
   "source": [
    "booster =  XGBClassifier(\n",
    "     eta = 0.01,\n",
    "    max_depth=1,\n",
    "    base_score=0.5,\n",
    "    subsample=0.8, \n",
    "        colsample_bytree=0.8,\n",
    "        gamma=1, \n",
    "        min_child_weight= 12,\n",
    "        n_estimators=319,\n",
    "        n_jobs=-1,\n",
    "        nthread=None,\n",
    "        objective = 'binary:logistic',\n",
    "        eval_metric ='auc')    "
   ]
  },
  {
   "cell_type": "code",
   "execution_count": 95,
   "metadata": {},
   "outputs": [
    {
     "data": {
      "text/plain": [
       "XGBClassifier(base_score=0.5, booster='gbtree', colsample_bylevel=1,\n",
       "       colsample_bytree=0.8, eta=0.01, eval_metric='auc', gamma=1,\n",
       "       learning_rate=0.1, max_delta_step=0, max_depth=1,\n",
       "       min_child_weight=12, missing=None, n_estimators=319, n_jobs=-1,\n",
       "       nthread=None, objective='binary:logistic', random_state=0,\n",
       "       reg_alpha=0, reg_lambda=1, scale_pos_weight=1, seed=None,\n",
       "       silent=True, subsample=0.8)"
      ]
     },
     "execution_count": 95,
     "metadata": {},
     "output_type": "execute_result"
    }
   ],
   "source": [
    "booster.fit(preprocessed_train_set, np.ravel(train_target))"
   ]
  },
  {
   "cell_type": "code",
   "execution_count": 96,
   "metadata": {},
   "outputs": [],
   "source": [
    "pred_labels = booster.predict(preprocessed_test_set)"
   ]
  },
  {
   "cell_type": "code",
   "execution_count": 97,
   "metadata": {},
   "outputs": [],
   "source": [
    "roc_auc =  roc_auc_score(test_target, np.ravel(pred_labels))"
   ]
  },
  {
   "cell_type": "code",
   "execution_count": 98,
   "metadata": {},
   "outputs": [
    {
     "data": {
      "text/plain": [
       "0.6560186290900407"
      ]
     },
     "execution_count": 98,
     "metadata": {},
     "output_type": "execute_result"
    }
   ],
   "source": [
    "roc_auc"
   ]
  },
  {
   "cell_type": "markdown",
   "metadata": {},
   "source": [
    "# Find Best Iteration"
   ]
  },
  {
   "cell_type": "code",
   "execution_count": 119,
   "metadata": {},
   "outputs": [],
   "source": [
    "par = {  \n",
    "    \"eta\": 0.01,\n",
    "    \"max_depth\":15,\n",
    "    \"min_child_weight\":12,\n",
    "    \"base_score\":0.5,\n",
    "    \"n_estimators\":5000,\n",
    "    \"n_jobs\":-1,\n",
    "    \"subsample\": 0.8,\n",
    "    \"colsample_bytree\": 1,\n",
    "    \"gamma\": 0,\n",
    "    \"objective\" : 'binary:logistic',\n",
    "    \"eval_metric\" :'auc'}"
   ]
  },
  {
   "cell_type": "code",
   "execution_count": 120,
   "metadata": {},
   "outputs": [],
   "source": [
    "X_train, X_validation, y_train, y_validation =  train_test_split(\n",
    "        preprocessed_train_set,\n",
    "        train_target,\n",
    "        test_size=.25,\n",
    "        stratify=train_target\n",
    "    )"
   ]
  },
  {
   "cell_type": "code",
   "execution_count": 121,
   "metadata": {},
   "outputs": [],
   "source": [
    " # Translate these sets into XGBoost-compatible dense matrices\n",
    "d_train = xgb.DMatrix(X_train.values, label=y_train.values, feature_names=X_train.columns)\n",
    "d_validation = xgb.DMatrix(X_validation, label=y_validation.values, feature_names=X_validation.columns)\n",
    "\n",
    "# Parametrize a watch list to follow the training performance\n",
    "watch_list = [(d_train, 'train'), (d_validation, 'validation')]\n",
    "\n"
   ]
  },
  {
   "cell_type": "code",
   "execution_count": 122,
   "metadata": {},
   "outputs": [
    {
     "name": "stdout",
     "output_type": "stream",
     "text": [
      "[0]\ttrain-auc:0.642115\tvalidation-auc:0.604053\n",
      "Multiple eval metrics have been passed: 'validation-auc' will be used for early stopping.\n",
      "\n",
      "Will train until validation-auc hasn't improved in 100 rounds.\n",
      "[1]\ttrain-auc:0.694797\tvalidation-auc:0.658569\n",
      "[2]\ttrain-auc:0.712751\tvalidation-auc:0.663548\n",
      "[3]\ttrain-auc:0.717131\tvalidation-auc:0.687875\n",
      "[4]\ttrain-auc:0.717981\tvalidation-auc:0.686851\n",
      "[5]\ttrain-auc:0.72104\tvalidation-auc:0.691371\n",
      "[6]\ttrain-auc:0.727014\tvalidation-auc:0.692147\n",
      "[7]\ttrain-auc:0.732042\tvalidation-auc:0.687275\n",
      "[8]\ttrain-auc:0.734424\tvalidation-auc:0.690559\n",
      "[9]\ttrain-auc:0.739559\tvalidation-auc:0.681943\n",
      "[10]\ttrain-auc:0.742649\tvalidation-auc:0.683956\n",
      "[11]\ttrain-auc:0.752572\tvalidation-auc:0.683426\n",
      "[12]\ttrain-auc:0.751994\tvalidation-auc:0.679472\n",
      "[13]\ttrain-auc:0.754269\tvalidation-auc:0.681061\n",
      "[14]\ttrain-auc:0.756856\tvalidation-auc:0.682579\n",
      "[15]\ttrain-auc:0.757584\tvalidation-auc:0.677424\n",
      "[16]\ttrain-auc:0.75669\tvalidation-auc:0.680107\n",
      "[17]\ttrain-auc:0.758478\tvalidation-auc:0.683356\n",
      "[18]\ttrain-auc:0.758103\tvalidation-auc:0.684556\n",
      "[19]\ttrain-auc:0.757564\tvalidation-auc:0.68505\n",
      "[20]\ttrain-auc:0.760298\tvalidation-auc:0.685474\n",
      "[21]\ttrain-auc:0.761082\tvalidation-auc:0.681449\n",
      "[22]\ttrain-auc:0.763266\tvalidation-auc:0.678271\n",
      "[23]\ttrain-auc:0.761541\tvalidation-auc:0.677565\n",
      "[24]\ttrain-auc:0.762898\tvalidation-auc:0.676012\n",
      "[25]\ttrain-auc:0.76325\tvalidation-auc:0.675235\n",
      "[26]\ttrain-auc:0.763068\tvalidation-auc:0.676153\n",
      "[27]\ttrain-auc:0.76471\tvalidation-auc:0.677071\n",
      "[28]\ttrain-auc:0.76668\tvalidation-auc:0.677283\n",
      "[29]\ttrain-auc:0.767748\tvalidation-auc:0.680107\n",
      "[30]\ttrain-auc:0.767139\tvalidation-auc:0.680884\n",
      "[31]\ttrain-auc:0.766039\tvalidation-auc:0.681025\n",
      "[32]\ttrain-auc:0.767891\tvalidation-auc:0.682579\n",
      "[33]\ttrain-auc:0.769077\tvalidation-auc:0.683073\n",
      "[34]\ttrain-auc:0.768895\tvalidation-auc:0.680955\n",
      "[35]\ttrain-auc:0.767724\tvalidation-auc:0.681308\n",
      "[36]\ttrain-auc:0.768357\tvalidation-auc:0.681943\n",
      "[37]\ttrain-auc:0.769568\tvalidation-auc:0.683003\n",
      "[38]\ttrain-auc:0.770407\tvalidation-auc:0.686251\n",
      "[39]\ttrain-auc:0.770589\tvalidation-auc:0.684415\n",
      "[40]\ttrain-auc:0.771728\tvalidation-auc:0.685545\n",
      "[41]\ttrain-auc:0.772266\tvalidation-auc:0.684839\n",
      "[42]\ttrain-auc:0.772053\tvalidation-auc:0.684344\n",
      "[43]\ttrain-auc:0.773762\tvalidation-auc:0.684768\n",
      "[44]\ttrain-auc:0.774316\tvalidation-auc:0.681943\n",
      "[45]\ttrain-auc:0.774197\tvalidation-auc:0.681378\n",
      "[46]\ttrain-auc:0.776666\tvalidation-auc:0.682508\n",
      "[47]\ttrain-auc:0.775736\tvalidation-auc:0.679613\n",
      "[48]\ttrain-auc:0.776444\tvalidation-auc:0.679189\n",
      "[49]\ttrain-auc:0.776397\tvalidation-auc:0.680955\n",
      "[50]\ttrain-auc:0.777077\tvalidation-auc:0.68159\n",
      "[51]\ttrain-auc:0.776769\tvalidation-auc:0.681943\n",
      "[52]\ttrain-auc:0.775898\tvalidation-auc:0.683214\n",
      "[53]\ttrain-auc:0.776903\tvalidation-auc:0.68272\n",
      "[54]\ttrain-auc:0.776428\tvalidation-auc:0.683285\n",
      "[55]\ttrain-auc:0.775938\tvalidation-auc:0.680249\n",
      "[56]\ttrain-auc:0.777117\tvalidation-auc:0.681167\n",
      "[57]\ttrain-auc:0.776737\tvalidation-auc:0.681167\n",
      "[58]\ttrain-auc:0.777354\tvalidation-auc:0.682155\n",
      "[59]\ttrain-auc:0.777164\tvalidation-auc:0.681661\n",
      "[60]\ttrain-auc:0.778478\tvalidation-auc:0.682861\n",
      "[61]\ttrain-auc:0.778248\tvalidation-auc:0.68152\n",
      "[62]\ttrain-auc:0.778913\tvalidation-auc:0.683568\n",
      "[63]\ttrain-auc:0.778668\tvalidation-auc:0.683568\n",
      "[64]\ttrain-auc:0.780013\tvalidation-auc:0.68272\n",
      "[65]\ttrain-auc:0.7812\tvalidation-auc:0.684274\n",
      "[66]\ttrain-auc:0.781089\tvalidation-auc:0.684203\n",
      "[67]\ttrain-auc:0.780258\tvalidation-auc:0.68385\n",
      "[68]\ttrain-auc:0.780487\tvalidation-auc:0.684062\n",
      "[69]\ttrain-auc:0.781172\tvalidation-auc:0.686675\n",
      "[70]\ttrain-auc:0.782901\tvalidation-auc:0.686745\n",
      "[71]\ttrain-auc:0.78427\tvalidation-auc:0.685404\n",
      "[72]\ttrain-auc:0.784349\tvalidation-auc:0.687734\n",
      "[73]\ttrain-auc:0.785472\tvalidation-auc:0.687593\n",
      "[74]\ttrain-auc:0.785567\tvalidation-auc:0.688793\n",
      "[75]\ttrain-auc:0.786185\tvalidation-auc:0.688511\n",
      "[76]\ttrain-auc:0.787055\tvalidation-auc:0.688369\n",
      "[77]\ttrain-auc:0.786596\tvalidation-auc:0.688087\n",
      "[78]\ttrain-auc:0.787245\tvalidation-auc:0.688158\n",
      "[79]\ttrain-auc:0.787142\tvalidation-auc:0.68731\n",
      "[80]\ttrain-auc:0.788234\tvalidation-auc:0.687875\n",
      "[81]\ttrain-auc:0.78863\tvalidation-auc:0.688793\n",
      "[82]\ttrain-auc:0.789033\tvalidation-auc:0.688299\n",
      "[83]\ttrain-auc:0.789832\tvalidation-auc:0.688158\n",
      "[84]\ttrain-auc:0.790687\tvalidation-auc:0.688934\n",
      "[85]\ttrain-auc:0.791953\tvalidation-auc:0.6907\n",
      "[86]\ttrain-auc:0.791439\tvalidation-auc:0.691618\n",
      "[87]\ttrain-auc:0.791138\tvalidation-auc:0.692395\n",
      "[88]\ttrain-auc:0.792364\tvalidation-auc:0.69303\n",
      "[89]\ttrain-auc:0.792483\tvalidation-auc:0.694301\n",
      "[90]\ttrain-auc:0.792594\tvalidation-auc:0.694937\n",
      "[91]\ttrain-auc:0.793607\tvalidation-auc:0.695219\n",
      "[92]\ttrain-auc:0.794619\tvalidation-auc:0.694513\n",
      "[93]\ttrain-auc:0.796147\tvalidation-auc:0.695431\n",
      "[94]\ttrain-auc:0.797547\tvalidation-auc:0.695714\n",
      "[95]\ttrain-auc:0.797626\tvalidation-auc:0.696843\n",
      "[96]\ttrain-auc:0.797879\tvalidation-auc:0.696985\n",
      "[97]\ttrain-auc:0.797492\tvalidation-auc:0.696561\n",
      "[98]\ttrain-auc:0.798457\tvalidation-auc:0.696773\n",
      "[99]\ttrain-auc:0.798845\tvalidation-auc:0.695643\n",
      "[100]\ttrain-auc:0.800641\tvalidation-auc:0.695643\n",
      "[101]\ttrain-auc:0.800443\tvalidation-auc:0.695219\n",
      "[102]\ttrain-auc:0.800657\tvalidation-auc:0.694796\n",
      "[103]\ttrain-auc:0.80163\tvalidation-auc:0.695219\n",
      "[104]\ttrain-auc:0.801203\tvalidation-auc:0.694089\n",
      "[105]\ttrain-auc:0.801298\tvalidation-auc:0.693666\n",
      "[106]\ttrain-auc:0.801954\tvalidation-auc:0.693595\n",
      "[107]\ttrain-auc:0.80269\tvalidation-auc:0.694372\n",
      "[108]\ttrain-auc:0.803569\tvalidation-auc:0.694513\n",
      "[109]\ttrain-auc:0.80345\tvalidation-auc:0.694231\n",
      "[110]\ttrain-auc:0.804542\tvalidation-auc:0.693313\n",
      "[111]\ttrain-auc:0.80527\tvalidation-auc:0.694584\n",
      "[112]\ttrain-auc:0.80565\tvalidation-auc:0.695219\n",
      "[113]\ttrain-auc:0.805262\tvalidation-auc:0.69536\n",
      "[114]\ttrain-auc:0.806544\tvalidation-auc:0.69536\n",
      "[115]\ttrain-auc:0.808174\tvalidation-auc:0.696561\n",
      "[116]\ttrain-auc:0.809195\tvalidation-auc:0.695784\n",
      "[117]\ttrain-auc:0.809503\tvalidation-auc:0.696914\n",
      "[118]\ttrain-auc:0.809938\tvalidation-auc:0.697338\n",
      "[119]\ttrain-auc:0.809527\tvalidation-auc:0.698679\n",
      "[120]\ttrain-auc:0.810033\tvalidation-auc:0.698679\n",
      "[121]\ttrain-auc:0.809772\tvalidation-auc:0.698609\n",
      "[122]\ttrain-auc:0.809772\tvalidation-auc:0.698397\n",
      "[123]\ttrain-auc:0.810239\tvalidation-auc:0.697267\n",
      "[124]\ttrain-auc:0.810999\tvalidation-auc:0.698891\n",
      "[125]\ttrain-auc:0.811703\tvalidation-auc:0.69875\n",
      "[126]\ttrain-auc:0.812431\tvalidation-auc:0.698962\n",
      "[127]\ttrain-auc:0.813072\tvalidation-auc:0.700304\n",
      "[128]\ttrain-auc:0.813127\tvalidation-auc:0.700445\n",
      "[129]\ttrain-auc:0.813182\tvalidation-auc:0.700233\n",
      "[130]\ttrain-auc:0.81376\tvalidation-auc:0.699739\n",
      "[131]\ttrain-auc:0.813887\tvalidation-auc:0.699315\n",
      "[132]\ttrain-auc:0.814377\tvalidation-auc:0.698679\n",
      "[133]\ttrain-auc:0.814812\tvalidation-auc:0.69875\n",
      "[134]\ttrain-auc:0.815667\tvalidation-auc:0.698397\n",
      "[135]\ttrain-auc:0.81634\tvalidation-auc:0.698397\n",
      "[136]\ttrain-auc:0.816442\tvalidation-auc:0.696914\n",
      "[137]\ttrain-auc:0.816656\tvalidation-auc:0.695643\n",
      "[138]\ttrain-auc:0.816379\tvalidation-auc:0.694725\n",
      "[139]\ttrain-auc:0.817748\tvalidation-auc:0.69536\n",
      "[140]\ttrain-auc:0.818096\tvalidation-auc:0.694301\n",
      "[141]\ttrain-auc:0.818041\tvalidation-auc:0.693948\n",
      "[142]\ttrain-auc:0.818365\tvalidation-auc:0.694301\n",
      "[143]\ttrain-auc:0.81884\tvalidation-auc:0.695007\n",
      "[144]\ttrain-auc:0.819275\tvalidation-auc:0.69536\n",
      "[145]\ttrain-auc:0.819877\tvalidation-auc:0.695855\n",
      "[146]\ttrain-auc:0.819805\tvalidation-auc:0.695431\n",
      "[147]\ttrain-auc:0.819979\tvalidation-auc:0.696137\n",
      "[148]\ttrain-auc:0.820272\tvalidation-auc:0.695149\n",
      "[149]\ttrain-auc:0.82068\tvalidation-auc:0.694866\n",
      "[150]\ttrain-auc:0.821514\tvalidation-auc:0.693878\n",
      "[151]\ttrain-auc:0.822258\tvalidation-auc:0.693595\n",
      "[152]\ttrain-auc:0.822195\tvalidation-auc:0.693524\n",
      "[153]\ttrain-auc:0.822551\tvalidation-auc:0.692677\n",
      "[154]\ttrain-auc:0.823421\tvalidation-auc:0.692395\n",
      "[155]\ttrain-auc:0.823619\tvalidation-auc:0.693454\n",
      "[156]\ttrain-auc:0.824221\tvalidation-auc:0.693171\n",
      "[157]\ttrain-auc:0.824624\tvalidation-auc:0.692677\n",
      "[158]\ttrain-auc:0.824767\tvalidation-auc:0.692889\n",
      "[159]\ttrain-auc:0.825305\tvalidation-auc:0.693313\n",
      "[160]\ttrain-auc:0.825376\tvalidation-auc:0.692253\n",
      "[161]\ttrain-auc:0.825882\tvalidation-auc:0.692606\n",
      "[162]\ttrain-auc:0.826476\tvalidation-auc:0.693171\n",
      "[163]\ttrain-auc:0.826215\tvalidation-auc:0.693595\n",
      "[164]\ttrain-auc:0.826254\tvalidation-auc:0.693948\n",
      "[165]\ttrain-auc:0.826594\tvalidation-auc:0.69303\n",
      "[166]\ttrain-auc:0.827299\tvalidation-auc:0.691971\n",
      "[167]\ttrain-auc:0.828074\tvalidation-auc:0.691477\n",
      "[168]\ttrain-auc:0.828335\tvalidation-auc:0.692465\n",
      "[169]\ttrain-auc:0.828137\tvalidation-auc:0.693313\n",
      "[170]\ttrain-auc:0.828794\tvalidation-auc:0.692395\n",
      "[171]\ttrain-auc:0.828747\tvalidation-auc:0.69183\n",
      "[172]\ttrain-auc:0.829198\tvalidation-auc:0.692395\n",
      "[173]\ttrain-auc:0.829577\tvalidation-auc:0.691618\n",
      "[174]\ttrain-auc:0.829617\tvalidation-auc:0.691406\n",
      "[175]\ttrain-auc:0.829395\tvalidation-auc:0.691618\n",
      "[176]\ttrain-auc:0.829783\tvalidation-auc:0.690417\n",
      "[177]\ttrain-auc:0.830076\tvalidation-auc:0.691123\n",
      "[178]\ttrain-auc:0.830021\tvalidation-auc:0.6919\n",
      "[179]\ttrain-auc:0.830163\tvalidation-auc:0.692606\n",
      "[180]\ttrain-auc:0.830891\tvalidation-auc:0.690982\n",
      "[181]\ttrain-auc:0.831833\tvalidation-auc:0.689641\n",
      "[182]\ttrain-auc:0.831999\tvalidation-auc:0.690135\n",
      "[183]\ttrain-auc:0.83245\tvalidation-auc:0.690417\n",
      "[184]\ttrain-auc:0.832758\tvalidation-auc:0.690488\n",
      "[185]\ttrain-auc:0.83298\tvalidation-auc:0.690629\n",
      "[186]\ttrain-auc:0.833312\tvalidation-auc:0.6907\n",
      "[187]\ttrain-auc:0.833716\tvalidation-auc:0.690488\n",
      "[188]\ttrain-auc:0.833455\tvalidation-auc:0.691194\n",
      "[189]\ttrain-auc:0.833684\tvalidation-auc:0.691618\n",
      "[190]\ttrain-auc:0.833969\tvalidation-auc:0.690841\n",
      "[191]\ttrain-auc:0.835029\tvalidation-auc:0.692748\n",
      "[192]\ttrain-auc:0.835639\tvalidation-auc:0.692889\n",
      "[193]\ttrain-auc:0.836232\tvalidation-auc:0.692536\n",
      "[194]\ttrain-auc:0.836066\tvalidation-auc:0.692465\n",
      "[195]\ttrain-auc:0.836643\tvalidation-auc:0.692606\n",
      "[196]\ttrain-auc:0.837221\tvalidation-auc:0.692889\n",
      "[197]\ttrain-auc:0.838218\tvalidation-auc:0.692606\n",
      "[198]\ttrain-auc:0.838867\tvalidation-auc:0.691194\n",
      "[199]\ttrain-auc:0.839009\tvalidation-auc:0.691265\n",
      "[200]\ttrain-auc:0.839033\tvalidation-auc:0.691688\n",
      "[201]\ttrain-auc:0.839373\tvalidation-auc:0.691335\n",
      "[202]\ttrain-auc:0.839579\tvalidation-auc:0.691406\n",
      "[203]\ttrain-auc:0.83935\tvalidation-auc:0.692465\n",
      "[204]\ttrain-auc:0.839666\tvalidation-auc:0.692324\n",
      "[205]\ttrain-auc:0.83988\tvalidation-auc:0.693524\n",
      "[206]\ttrain-auc:0.839801\tvalidation-auc:0.693807\n",
      "[207]\ttrain-auc:0.840117\tvalidation-auc:0.693807\n",
      "[208]\ttrain-auc:0.841003\tvalidation-auc:0.694937\n",
      "[209]\ttrain-auc:0.841193\tvalidation-auc:0.694019\n",
      "[210]\ttrain-auc:0.841715\tvalidation-auc:0.694725\n",
      "[211]\ttrain-auc:0.841715\tvalidation-auc:0.694301\n",
      "[212]\ttrain-auc:0.84217\tvalidation-auc:0.693878\n",
      "[213]\ttrain-auc:0.842831\tvalidation-auc:0.693878\n",
      "[214]\ttrain-auc:0.842997\tvalidation-auc:0.694301\n",
      "[215]\ttrain-auc:0.843551\tvalidation-auc:0.693807\n",
      "[216]\ttrain-auc:0.844279\tvalidation-auc:0.69303\n",
      "[217]\ttrain-auc:0.844659\tvalidation-auc:0.693171\n",
      "[218]\ttrain-auc:0.844493\tvalidation-auc:0.693736\n",
      "[219]\ttrain-auc:0.844706\tvalidation-auc:0.693171\n",
      "[220]\ttrain-auc:0.844849\tvalidation-auc:0.692889\n",
      "[221]\ttrain-auc:0.84526\tvalidation-auc:0.69303\n",
      "[222]\ttrain-auc:0.845506\tvalidation-auc:0.693454\n",
      "[223]\ttrain-auc:0.845205\tvalidation-auc:0.693524\n",
      "[224]\ttrain-auc:0.845703\tvalidation-auc:0.693101\n",
      "[225]\ttrain-auc:0.846178\tvalidation-auc:0.693524\n",
      "[226]\ttrain-auc:0.846368\tvalidation-auc:0.694019\n",
      "[227]\ttrain-auc:0.8467\tvalidation-auc:0.694372\n",
      "[228]\ttrain-auc:0.846843\tvalidation-auc:0.694513\n",
      "Stopping. Best iteration:\n",
      "[128]\ttrain-auc:0.813127\tvalidation-auc:0.700445\n",
      "\n"
     ]
    }
   ],
   "source": [
    "first_model = xgb.train(\n",
    "    params=par,\n",
    "    dtrain=d_train,\n",
    "    num_boost_round=6000,\n",
    "    evals=watch_list,\n",
    "    early_stopping_rounds=100\n",
    "    )\n"
   ]
  },
  {
   "cell_type": "code",
   "execution_count": 123,
   "metadata": {},
   "outputs": [],
   "source": [
    "# Should i use validation or train?"
   ]
  },
  {
   "cell_type": "markdown",
   "metadata": {},
   "source": [
    "# Find Max Depth and Min Child Weight"
   ]
  },
  {
   "cell_type": "code",
   "execution_count": 65,
   "metadata": {},
   "outputs": [
    {
     "ename": "SyntaxError",
     "evalue": "invalid syntax (<ipython-input-65-155dd931e5b2>, line 1)",
     "output_type": "error",
     "traceback": [
      "\u001b[0;36m  File \u001b[0;32m\"<ipython-input-65-155dd931e5b2>\"\u001b[0;36m, line \u001b[0;32m1\u001b[0m\n\u001b[0;31m    \"eta\": 0.01,\u001b[0m\n\u001b[0m         ^\u001b[0m\n\u001b[0;31mSyntaxError\u001b[0m\u001b[0;31m:\u001b[0m invalid syntax\n"
     ]
    }
   ],
   "source": [
    "   \"eta\": 0.01,\n",
    "    \"max_depth\":3,\n",
    "    \"base_score\":0.5,\n",
    "    \"n_estimators\":5000,\n",
    "    \"n_jobs\":-1,\n",
    "    \"subsample\": 0.8,\n",
    "    \"colsample_bytree\": 1,\n",
    "    \"gamma\": 1,\n",
    "    \"objective\" : 'binary:logistic',\n",
    "    \"eval_metric\" :'auc'}"
   ]
  },
  {
   "cell_type": "code",
   "execution_count": 129,
   "metadata": {},
   "outputs": [
    {
     "data": {
      "text/plain": [
       "GridSearchCV(cv=3, error_score='raise-deprecating',\n",
       "       estimator=XGBClassifier(base_score=0.5, booster='gbtree', colsample_bylevel=1,\n",
       "       colsample_bytree=1, gamma=1, learning_rate=0.01, max_delta_step=0,\n",
       "       max_depth=3, min_child_weight=1, missing=None, n_estimators=128,\n",
       "       n_jobs=-1, nthread=None, objective='binary:logistic',\n",
       "       random_state=0, reg_alpha=0, reg_lambda=1, scale_pos_weight=1,\n",
       "       seed=2019, silent=True, subsample=0.8),\n",
       "       fit_params=None, iid=False, n_jobs=-1,\n",
       "       param_grid={'max_depth': [8, 9, 10, 11, 12], 'min_child_weight': [7, 8, 9, 10]},\n",
       "       pre_dispatch='2*n_jobs', refit=True, return_train_score='warn',\n",
       "       scoring='roc_auc', verbose=0)"
      ]
     },
     "execution_count": 129,
     "metadata": {},
     "output_type": "execute_result"
    }
   ],
   "source": [
    "param_test1 = {\n",
    " 'max_depth':[8,9,10,11,12],\n",
    " 'min_child_weight':[7,8,9,10]\n",
    "}\n",
    "\n",
    "gsearch1 = GridSearchCV(\n",
    "    estimator = XGBClassifier(\n",
    "        learning_rate =0.01, \n",
    "        max_depth=3,\n",
    "        subsample=0.8, \n",
    "        colsample_bytree=1,\n",
    "        gamma=1, \n",
    "        objective= 'binary:logistic', \n",
    "        n_jobs=-1, \n",
    "        seed=2019,\n",
    "        n_estimators=128),\n",
    "    \n",
    "    param_grid = param_test1, \n",
    "    scoring='roc_auc',\n",
    "    n_jobs=-1,\n",
    "    iid=False, \n",
    "    cv=3)\n",
    "\n",
    "gsearch1.fit(preprocessed_train_set, train_target)"
   ]
  },
  {
   "cell_type": "code",
   "execution_count": 130,
   "metadata": {},
   "outputs": [
    {
     "name": "stdout",
     "output_type": "stream",
     "text": [
      "{'max_depth': 9, 'min_child_weight': 8}\n",
      "0.6403695115515609\n"
     ]
    }
   ],
   "source": [
    "print(gsearch1.best_params_)\n",
    "print(gsearch1.best_score_)"
   ]
  },
  {
   "cell_type": "markdown",
   "metadata": {},
   "source": [
    "# Tune Gamma"
   ]
  },
  {
   "cell_type": "code",
   "execution_count": 126,
   "metadata": {},
   "outputs": [
    {
     "data": {
      "text/plain": [
       "[0.0, 0.1, 0.2, 0.3, 0.4]"
      ]
     },
     "execution_count": 126,
     "metadata": {},
     "output_type": "execute_result"
    }
   ],
   "source": [
    "[i/10.0 for i in range(0,5)]"
   ]
  },
  {
   "cell_type": "code",
   "execution_count": 131,
   "metadata": {},
   "outputs": [
    {
     "data": {
      "text/plain": [
       "GridSearchCV(cv=5, error_score='raise-deprecating',\n",
       "       estimator=XGBClassifier(base_score=0.5, booster='gbtree', colsample_bylevel=1,\n",
       "       colsample_bytree=1, gamma=1, learning_rate=0.01, max_delta_step=0,\n",
       "       max_depth=9, min_child_weight=8, missing=None, n_estimators=128,\n",
       "       n_jobs=-1, nthread=None, objective='binary:logistic',\n",
       "       random_state=0, reg_alpha=0, reg_lambda=1, scale_pos_weight=1,\n",
       "       seed=2019, silent=True, subsample=0.8),\n",
       "       fit_params=None, iid=False, n_jobs=-1,\n",
       "       param_grid={'gamma': [0.0, 0.1, 0.2, 0.3, 0.4]},\n",
       "       pre_dispatch='2*n_jobs', refit=True, return_train_score='warn',\n",
       "       scoring='roc_auc', verbose=0)"
      ]
     },
     "execution_count": 131,
     "metadata": {},
     "output_type": "execute_result"
    }
   ],
   "source": [
    "param_test2 = {\n",
    " 'gamma':[i/10.0 for i in range(0,5)]\n",
    "}\n",
    "gsearch2 = GridSearchCV(\n",
    "    estimator = XGBClassifier(\n",
    "        learning_rate =0.01, \n",
    "        max_depth=9,\n",
    "        subsample=0.8, \n",
    "        colsample_bytree=1,\n",
    "        gamma=1, \n",
    "        min_child_weight= 8,\n",
    "        objective= 'binary:logistic', \n",
    "        n_jobs=-1, \n",
    "        seed=2019,\n",
    "        n_estimators=128),\n",
    "    \n",
    "    param_grid = param_test2, \n",
    "    scoring='roc_auc',\n",
    "    n_jobs=-1,\n",
    "    iid=False, \n",
    "    cv=5)\n",
    "\n",
    "gsearch2.fit(preprocessed_train_set, train_target)"
   ]
  },
  {
   "cell_type": "code",
   "execution_count": 132,
   "metadata": {},
   "outputs": [
    {
     "name": "stdout",
     "output_type": "stream",
     "text": [
      "{'gamma': 0.3}\n",
      "0.6380649496080627\n"
     ]
    }
   ],
   "source": [
    "print(gsearch2.best_params_)\n",
    "print(gsearch2.best_score_)"
   ]
  },
  {
   "cell_type": "markdown",
   "metadata": {},
   "source": [
    "# Subsamble and  colsample_bytree"
   ]
  },
  {
   "cell_type": "code",
   "execution_count": 133,
   "metadata": {},
   "outputs": [
    {
     "data": {
      "text/plain": [
       "GridSearchCV(cv=5, error_score='raise-deprecating',\n",
       "       estimator=XGBClassifier(base_score=0.5, booster='gbtree', colsample_bylevel=1,\n",
       "       colsample_bytree=1, gamma=0.3, learning_rate=0.01, max_delta_step=0,\n",
       "       max_depth=9, min_child_weight=8, missing=None, n_estimators=128,\n",
       "       n_jobs=-1, nthread=None, objective='binary:logistic',\n",
       "       random_state=0, reg_alpha=0, reg_lambda=1, scale_pos_weight=1,\n",
       "       seed=2019, silent=True, subsample=0.8),\n",
       "       fit_params=None, iid=False, n_jobs=-1,\n",
       "       param_grid={'subsample': [0.6, 0.7, 0.8, 0.9], 'colsample_bytree': [0.6, 0.7, 0.8, 0.9]},\n",
       "       pre_dispatch='2*n_jobs', refit=True, return_train_score='warn',\n",
       "       scoring='roc_auc', verbose=0)"
      ]
     },
     "execution_count": 133,
     "metadata": {},
     "output_type": "execute_result"
    }
   ],
   "source": [
    "param_test3 = {\n",
    " 'subsample':[i/10.0 for i in range(6,10)],\n",
    " 'colsample_bytree':[i/10.0 for i in range(6,10)]\n",
    "}\n",
    "\n",
    "gsearch3 = GridSearchCV(\n",
    "    estimator = XGBClassifier(\n",
    "        learning_rate =0.01, \n",
    "        max_depth=9,\n",
    "        subsample=0.8, \n",
    "        colsample_bytree=1,\n",
    "        gamma=0.3, \n",
    "        min_child_weight= 8,\n",
    "        objective= 'binary:logistic', \n",
    "        n_jobs=-1, \n",
    "        seed=2019,\n",
    "        n_estimators=128),\n",
    "    \n",
    "    param_grid = param_test3, \n",
    "    scoring='roc_auc',\n",
    "    n_jobs=-1,\n",
    "    iid=False, \n",
    "    cv=5)\n",
    "\n",
    "gsearch3.fit(preprocessed_train_set, train_target)"
   ]
  },
  {
   "cell_type": "code",
   "execution_count": null,
   "metadata": {},
   "outputs": [],
   "source": []
  },
  {
   "cell_type": "code",
   "execution_count": 134,
   "metadata": {},
   "outputs": [
    {
     "name": "stdout",
     "output_type": "stream",
     "text": [
      "{'subsample': 0.7, 'colsample_bytree': 0.7}\n",
      "0.6493873990687806\n"
     ]
    }
   ],
   "source": [
    "print(gsearch3.best_params_)\n",
    "print(gsearch3.best_score_)"
   ]
  },
  {
   "cell_type": "code",
   "execution_count": null,
   "metadata": {},
   "outputs": [],
   "source": []
  }
 ],
 "metadata": {
  "kernelspec": {
   "display_name": "Python 2",
   "language": "python",
   "name": "python2"
  },
  "language_info": {
   "codemirror_mode": {
    "name": "ipython",
    "version": 2
   },
   "file_extension": ".py",
   "mimetype": "text/x-python",
   "name": "python",
   "nbconvert_exporter": "python",
   "pygments_lexer": "ipython2",
   "version": "2.7.16"
  }
 },
 "nbformat": 4,
 "nbformat_minor": 2
}
