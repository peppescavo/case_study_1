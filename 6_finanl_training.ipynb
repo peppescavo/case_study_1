{
 "cells": [
  {
   "cell_type": "code",
   "execution_count": 1,
   "metadata": {},
   "outputs": [],
   "source": [
    "import pandas as pd\n",
    "import numpy as np\n",
    "import pickle\n",
    "import matplotlib.pyplot as plt\n",
    "from sklearn.ensemble import RandomForestClassifier\n",
    "from sklearn.metrics import roc_curve, roc_auc_score\n",
    "import seaborn as sns\n",
    "sns.set_style('darkgrid')\n",
    "from sklearn.model_selection import train_test_split, GridSearchCV, cross_val_score, StratifiedKFold"
   ]
  },
  {
   "cell_type": "code",
   "execution_count": 2,
   "metadata": {},
   "outputs": [],
   "source": [
    "preprocessed_train_set = pd.read_csv('data/preprocessed_train_set.csv', sep=';')\n",
    "train_target = pd.read_csv('data/train_target.csv', sep=';')\n",
    "\n",
    "preprocessed_test_set = pd.read_csv('data/preprocessed_test_set.csv', sep=';')\n",
    "test_target = pd.read_csv('data/test_target.csv', sep=';')"
   ]
  },
  {
   "cell_type": "code",
   "execution_count": 3,
   "metadata": {},
   "outputs": [],
   "source": [
    "ids = ['application_id','customer_id']\n",
    "\n",
    "train_ids = preprocessed_train_set[ids]\n",
    "test_ids = preprocessed_test_set[ids]\n",
    "\n",
    "preprocessed_train_set = preprocessed_train_set.drop(ids, 1)\n",
    "preprocessed_test_set = preprocessed_test_set.drop(ids, 1)"
   ]
  },
  {
   "cell_type": "code",
   "execution_count": 4,
   "metadata": {},
   "outputs": [],
   "source": [
    "final_model = RandomForestClassifier(\n",
    "    n_estimators=2250, \n",
    "    max_depth=21,\n",
    "    min_samples_split=2,\n",
    "    min_samples_leaf=1,\n",
    "    max_features=6,\n",
    "    class_weight='balanced')"
   ]
  },
  {
   "cell_type": "code",
   "execution_count": 5,
   "metadata": {},
   "outputs": [
    {
     "name": "stderr",
     "output_type": "stream",
     "text": [
      "/usr/local/lib/python2.7/site-packages/ipykernel_launcher.py:2: DataConversionWarning: A column-vector y was passed when a 1d array was expected. Please change the shape of y to (n_samples,), for example using ravel().\n",
      "  \n"
     ]
    },
    {
     "data": {
      "text/plain": [
       "RandomForestClassifier(bootstrap=True, class_weight='balanced',\n",
       "            criterion='gini', max_depth=21, max_features=6,\n",
       "            max_leaf_nodes=None, min_impurity_decrease=0.0,\n",
       "            min_impurity_split=None, min_samples_leaf=1,\n",
       "            min_samples_split=2, min_weight_fraction_leaf=0.0,\n",
       "            n_estimators=2250, n_jobs=None, oob_score=False,\n",
       "            random_state=None, verbose=0, warm_start=False)"
      ]
     },
     "execution_count": 5,
     "metadata": {},
     "output_type": "execute_result"
    }
   ],
   "source": [
    "# Training\n",
    "final_model.fit(preprocessed_train_set, train_target)"
   ]
  },
  {
   "cell_type": "code",
   "execution_count": 6,
   "metadata": {},
   "outputs": [],
   "source": [
    "#Prediction\n",
    "prediction = final_model.predict(preprocessed_test_set)"
   ]
  },
  {
   "cell_type": "code",
   "execution_count": 7,
   "metadata": {},
   "outputs": [
    {
     "data": {
      "image/png": "[encoded data removed]",
      "text/plain": [
       "<Figure size 720x360 with 1 Axes>"
      ]
     },
     "metadata": {},
     "output_type": "display_data"
    }
   ],
   "source": [
    "# Plot ROC\n",
    "\n",
    "def plot_roc(target, predicted_proba):\n",
    "    fpr, tpr, _ = roc_curve(target, predicted_proba)\n",
    "    auc_plot = roc_auc_score(target, predicted_proba)\n",
    "    \n",
    "    plt.figure(figsize=(10,5))\n",
    "    plt.plot(fpr, tpr, '-',  color='red', lw=1.5, label='AUC = %0.3f' % auc_plot)\n",
    "    plt.plot([0, 1], [0, 1], color='navy', lw=1, linestyle='--', label='Chance')\n",
    "\n",
    "    plt.xlabel('False Positive Rate', fontsize=15)\n",
    "    plt.ylabel('True Positive Rate', fontsize=15)\n",
    "    plt.legend(loc=\"lower right\", fontsize=15)\n",
    "    plt.xticks(fontsize=15)\n",
    "    plt.yticks(fontsize=15)\n",
    "\n",
    "plot_roc(test_target, prediction)   "
   ]
  },
  {
   "cell_type": "markdown",
   "metadata": {},
   "source": [
    "# Cross Validation"
   ]
  },
  {
   "cell_type": "code",
   "execution_count": 8,
   "metadata": {},
   "outputs": [],
   "source": [
    "cv_model = RandomForestClassifier(\n",
    "    n_estimators=2250, \n",
    "    max_depth=21,\n",
    "    min_samples_split=2,\n",
    "    min_samples_leaf=1,\n",
    "    max_features=6,\n",
    "    class_weight='balanced')"
   ]
  },
  {
   "cell_type": "code",
   "execution_count": 9,
   "metadata": {},
   "outputs": [
    {
     "name": "stderr",
     "output_type": "stream",
     "text": [
      "/usr/local/lib/python2.7/site-packages/ipykernel_launcher.py:12: DataConversionWarning: A column-vector y was passed when a 1d array was expected. Please change the shape of y to (n_samples,), for example using ravel().\n",
      "  if sys.path[0] == '':\n"
     ]
    },
    {
     "name": "stdout",
     "output_type": "stream",
     "text": [
      "0.789641915095\n"
     ]
    }
   ],
   "source": [
    "preprocessed_entire_set = pd.read_csv('data/preprocessed_entire_set.csv', sep=';')\n",
    "entire_target = pd.read_csv('data/entire_target.csv', sep=';')\n",
    "\n",
    "ids = ['application_id','customer_id']\n",
    "\n",
    "preprocessed_entire_set = preprocessed_entire_set.drop(ids, 1)\n",
    "\n",
    "nfold = 5\n",
    "cv = StratifiedKFold(n_splits=nfold, random_state=2019, shuffle=True)\n",
    "auc_sum = 0  \n",
    "for (train, test), i in zip(cv.split(preprocessed_entire_set, entire_target), range(nfold)):\n",
    "    cv_model.fit(preprocessed_entire_set.iloc[train], entire_target.iloc[train])\n",
    "    y_predict = cv_model.predict(preprocessed_entire_set.iloc[test])\n",
    "    auc = roc_auc_score(entire_target.iloc[test], y_predict)\n",
    "    auc_sum += auc\n",
    "\n",
    "print float(auc_sum)/nfold"
   ]
  },
  {
   "cell_type": "markdown",
   "metadata": {},
   "source": [
    "# Final Training + Prediction "
   ]
  },
  {
   "cell_type": "code",
   "execution_count": 69,
   "metadata": {},
   "outputs": [],
   "source": [
    "preprocessed_entire_set = pd.read_csv('data/preprocessed_entire_set.csv', sep=';')\n",
    "entire_target = pd.read_csv('data/entire_target.csv', sep=';')\n",
    "\n",
    "ids = ['application_id','customer_id']\n",
    "\n",
    "preprocessed_entire_set = preprocessed_entire_set.drop(ids, 1)"
   ]
  },
  {
   "cell_type": "code",
   "execution_count": 70,
   "metadata": {},
   "outputs": [],
   "source": [
    "final_model = RandomForestClassifier(\n",
    "    n_estimators=2250, \n",
    "    max_depth=21,\n",
    "    min_samples_split=2,\n",
    "    min_samples_leaf=1,\n",
    "    max_features=6,\n",
    "    class_weight='balanced')"
   ]
  },
  {
   "cell_type": "code",
   "execution_count": 71,
   "metadata": {},
   "outputs": [
    {
     "data": {
      "text/plain": [
       "RandomForestClassifier(bootstrap=True, class_weight='balanced',\n",
       "            criterion='gini', max_depth=21, max_features=6,\n",
       "            max_leaf_nodes=None, min_impurity_decrease=0.0,\n",
       "            min_impurity_split=None, min_samples_leaf=1,\n",
       "            min_samples_split=2, min_weight_fraction_leaf=0.0,\n",
       "            n_estimators=2250, n_jobs=None, oob_score=False,\n",
       "            random_state=None, verbose=0, warm_start=False)"
      ]
     },
     "execution_count": 71,
     "metadata": {},
     "output_type": "execute_result"
    }
   ],
   "source": [
    "final_model.fit(preprocessed_entire_set, np.ravel(entire_target))"
   ]
  },
  {
   "cell_type": "code",
   "execution_count": 72,
   "metadata": {},
   "outputs": [],
   "source": [
    "ferratum_preprocessed_test_set = pd.read_csv('data/ferratum_preprocessed_test_set.csv', sep=';')\n",
    "ferratum_preprocessed_test_set = ferratum_preprocessed_test_set.drop(ids, 1)\n",
    "ferratum_preprocessed_test_set = ferratum_preprocessed_test_set.drop(['Target'], 1)"
   ]
  },
  {
   "cell_type": "code",
   "execution_count": 73,
   "metadata": {},
   "outputs": [],
   "source": [
    "final_prediction = final_model.predict_proba(ferratum_preprocessed_test_set)"
   ]
  },
  {
   "cell_type": "code",
   "execution_count": 74,
   "metadata": {},
   "outputs": [],
   "source": [
    "result = pd.DataFrame(final_prediction, columns=['PROBABILITY_CLASS_0','PROBABILTY_CLASS_1'])"
   ]
  },
  {
   "cell_type": "code",
   "execution_count": 75,
   "metadata": {},
   "outputs": [
    {
     "data": {
      "text/plain": [
       "(515, 2)"
      ]
     },
     "execution_count": 75,
     "metadata": {},
     "output_type": "execute_result"
    }
   ],
   "source": [
    "result.shape"
   ]
  },
  {
   "cell_type": "code",
   "execution_count": 76,
   "metadata": {},
   "outputs": [
    {
     "data": {
      "text/html": [
       "<div>\n",
       "<style>\n",
       "    .dataframe thead tr:only-child th {\n",
       "        text-align: right;\n",
       "    }\n",
       "\n",
       "    .dataframe thead th {\n",
       "        text-align: left;\n",
       "    }\n",
       "\n",
       "    .dataframe tbody tr th {\n",
       "        vertical-align: top;\n",
       "    }\n",
       "</style>\n",
       "<table border=\"1\" class=\"dataframe\">\n",
       "  <thead>\n",
       "    <tr style=\"text-align: right;\">\n",
       "      <th></th>\n",
       "      <th>PROBABILITY_CLASS_0</th>\n",
       "      <th>PROBABILTY_CLASS_1</th>\n",
       "    </tr>\n",
       "  </thead>\n",
       "  <tbody>\n",
       "    <tr>\n",
       "      <th>0</th>\n",
       "      <td>0.308768</td>\n",
       "      <td>0.691232</td>\n",
       "    </tr>\n",
       "    <tr>\n",
       "      <th>1</th>\n",
       "      <td>0.262039</td>\n",
       "      <td>0.737961</td>\n",
       "    </tr>\n",
       "    <tr>\n",
       "      <th>2</th>\n",
       "      <td>0.522271</td>\n",
       "      <td>0.477729</td>\n",
       "    </tr>\n",
       "    <tr>\n",
       "      <th>3</th>\n",
       "      <td>0.192884</td>\n",
       "      <td>0.807116</td>\n",
       "    </tr>\n",
       "    <tr>\n",
       "      <th>4</th>\n",
       "      <td>0.549629</td>\n",
       "      <td>0.450371</td>\n",
       "    </tr>\n",
       "  </tbody>\n",
       "</table>\n",
       "</div>"
      ],
      "text/plain": [
       "   PROBABILITY_CLASS_0  PROBABILTY_CLASS_1\n",
       "0             0.308768            0.691232\n",
       "1             0.262039            0.737961\n",
       "2             0.522271            0.477729\n",
       "3             0.192884            0.807116\n",
       "4             0.549629            0.450371"
      ]
     },
     "execution_count": 76,
     "metadata": {},
     "output_type": "execute_result"
    }
   ],
   "source": [
    "result.head()"
   ]
  },
  {
   "cell_type": "code",
   "execution_count": 54,
   "metadata": {},
   "outputs": [],
   "source": [
    "result[['PROBABILTY_CLASS_1']].to_csv('data/probability_class_1.csv', sep=';', index=False)"
   ]
  },
  {
   "cell_type": "code",
   "execution_count": 59,
   "metadata": {},
   "outputs": [],
   "source": [
    "pickle.dump(\n",
    "    final_prediction, \n",
    "    open('data/final_model.pkl', 'wb'))"
   ]
  },
  {
   "cell_type": "code",
   "execution_count": null,
   "metadata": {},
   "outputs": [],
   "source": []
  }
 ],
 "metadata": {
  "kernelspec": {
   "display_name": "Python 2",
   "language": "python",
   "name": "python2"
  },
  "language_info": {
   "codemirror_mode": {
    "name": "ipython",
    "version": 2
   },
   "file_extension": ".py",
   "mimetype": "text/x-python",
   "name": "python",
   "nbconvert_exporter": "python",
   "pygments_lexer": "ipython2",
   "version": "2.7.16"
  }
 },
 "nbformat": 4,
 "nbformat_minor": 2
}
