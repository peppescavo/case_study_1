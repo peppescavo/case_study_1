{
 "cells": [
  {
   "cell_type": "code",
   "execution_count": 66,
   "metadata": {},
   "outputs": [],
   "source": [
    "import pandas as pd\n",
    "import numpy as np\n",
    "from xgboost import XGBClassifier\n",
    "from sklearn.metrics import roc_auc_score\n",
    "import xgboost as xgb\n",
    "from sklearn.model_selection import train_test_split, GridSearchCV"
   ]
  },
  {
   "cell_type": "code",
   "execution_count": 67,
   "metadata": {},
   "outputs": [],
   "source": [
    "preprocessed_train_set = pd.read_csv('data/preprocessed_train_set_NAN.csv', sep=';')\n",
    "train_target = pd.read_csv('data/train_target_NAN.csv', sep=';')\n",
    "\n",
    "preprocessed_test_set = pd.read_csv('data/preprocessed_test_set_NAN.csv', sep=';')\n",
    "test_target = pd.read_csv('data/test_target_NAN.csv', sep=';')"
   ]
  },
  {
   "cell_type": "code",
   "execution_count": 68,
   "metadata": {},
   "outputs": [],
   "source": [
    "booster =  XGBClassifier(\n",
    "     eta = 0.01,\n",
    "    max_depth=1,\n",
    "    base_score=0.5,\n",
    "    subsample=0.8, \n",
    "        colsample_bytree=0.8,\n",
    "        gamma=1, \n",
    "        min_child_weight= 12,\n",
    "        n_estimators=319,\n",
    "        n_jobs=-1,\n",
    "        nthread=None,\n",
    "        objective = 'binary:logistic',\n",
    "        eval_metric ='auc')    "
   ]
  },
  {
   "cell_type": "code",
   "execution_count": 69,
   "metadata": {},
   "outputs": [
    {
     "data": {
      "text/plain": [
       "XGBClassifier(base_score=0.5, booster='gbtree', colsample_bylevel=1,\n",
       "       colsample_bytree=0.8, eta=0.01, eval_metric='auc', gamma=1,\n",
       "       learning_rate=0.1, max_delta_step=0, max_depth=1,\n",
       "       min_child_weight=12, missing=None, n_estimators=319, n_jobs=-1,\n",
       "       nthread=None, objective='binary:logistic', random_state=0,\n",
       "       reg_alpha=0, reg_lambda=1, scale_pos_weight=1, seed=None,\n",
       "       silent=True, subsample=0.8)"
      ]
     },
     "execution_count": 69,
     "metadata": {},
     "output_type": "execute_result"
    }
   ],
   "source": [
    "booster.fit(preprocessed_train_set, np.ravel(train_target))"
   ]
  },
  {
   "cell_type": "code",
   "execution_count": 70,
   "metadata": {},
   "outputs": [],
   "source": [
    "pred_labels = booster.predict(preprocessed_test_set)"
   ]
  },
  {
   "cell_type": "code",
   "execution_count": 71,
   "metadata": {},
   "outputs": [],
   "source": [
    "roc_auc =  roc_auc_score(test_target, np.ravel(pred_labels))"
   ]
  },
  {
   "cell_type": "code",
   "execution_count": 72,
   "metadata": {},
   "outputs": [
    {
     "data": {
      "text/plain": [
       "0.5652146934723257"
      ]
     },
     "execution_count": 72,
     "metadata": {},
     "output_type": "execute_result"
    }
   ],
   "source": [
    "roc_auc"
   ]
  },
  {
   "cell_type": "markdown",
   "metadata": {},
   "source": [
    "# Find Best Iteration"
   ]
  },
  {
   "cell_type": "code",
   "execution_count": 60,
   "metadata": {},
   "outputs": [],
   "source": [
    "par = {  \n",
    "    \"eta\": 0.01,\n",
    "    \"max_depth\":1,\n",
    "    \"min_child_weight\":12,\n",
    "    \"base_score\":0.5,\n",
    "    \"n_estimators\":5000,\n",
    "    \"n_jobs\":-1,\n",
    "    \"subsample\": 0.8,\n",
    "    \"colsample_bytree\": 1,\n",
    "    \"gamma\": 0,\n",
    "    \"objective\" : 'binary:logistic',\n",
    "    \"eval_metric\" :'auc'}"
   ]
  },
  {
   "cell_type": "code",
   "execution_count": 61,
   "metadata": {},
   "outputs": [],
   "source": [
    "X_train, X_validation, y_train, y_validation =  train_test_split(\n",
    "        preprocessed_train_set,\n",
    "        train_target,\n",
    "        test_size=.25,\n",
    "        stratify=train_target\n",
    "    )"
   ]
  },
  {
   "cell_type": "code",
   "execution_count": 62,
   "metadata": {},
   "outputs": [],
   "source": [
    " # Translate these sets into XGBoost-compatible dense matrices\n",
    "d_train = xgb.DMatrix(X_train.values, label=y_train.values, feature_names=X_train.columns)\n",
    "d_validation = xgb.DMatrix(X_validation, label=y_validation.values, feature_names=X_validation.columns)\n",
    "\n",
    "# Parametrize a watch list to follow the training performance\n",
    "watch_list = [(d_train, 'train'), (d_validation, 'validation')]\n",
    "\n"
   ]
  },
  {
   "cell_type": "code",
   "execution_count": 63,
   "metadata": {},
   "outputs": [
    {
     "name": "stdout",
     "output_type": "stream",
     "text": [
      "[0]\ttrain-auc:0.542542\tvalidation-auc:0.522236\n",
      "Multiple eval metrics have been passed: 'validation-auc' will be used for early stopping.\n",
      "\n",
      "Will train until validation-auc hasn't improved in 100 rounds.\n",
      "[1]\ttrain-auc:0.594782\tvalidation-auc:0.549098\n",
      "[2]\ttrain-auc:0.588178\tvalidation-auc:0.565716\n",
      "[3]\ttrain-auc:0.614143\tvalidation-auc:0.595962\n",
      "[4]\ttrain-auc:0.625032\tvalidation-auc:0.615696\n",
      "[5]\ttrain-auc:0.616977\tvalidation-auc:0.598385\n",
      "[6]\ttrain-auc:0.625032\tvalidation-auc:0.615696\n",
      "[7]\ttrain-auc:0.622932\tvalidation-auc:0.61557\n",
      "[8]\ttrain-auc:0.638775\tvalidation-auc:0.636484\n",
      "[9]\ttrain-auc:0.640372\tvalidation-auc:0.636421\n",
      "[10]\ttrain-auc:0.640091\tvalidation-auc:0.636421\n",
      "[11]\ttrain-auc:0.653165\tvalidation-auc:0.648145\n",
      "[12]\ttrain-auc:0.655844\tvalidation-auc:0.647641\n",
      "[13]\ttrain-auc:0.659738\tvalidation-auc:0.65809\n",
      "[14]\ttrain-auc:0.663634\tvalidation-auc:0.664652\n",
      "[15]\ttrain-auc:0.669013\tvalidation-auc:0.669546\n",
      "[16]\ttrain-auc:0.669354\tvalidation-auc:0.666777\n",
      "[17]\ttrain-auc:0.669228\tvalidation-auc:0.667375\n",
      "[18]\ttrain-auc:0.668536\tvalidation-auc:0.667595\n",
      "[19]\ttrain-auc:0.669689\tvalidation-auc:0.668634\n",
      "[20]\ttrain-auc:0.668383\tvalidation-auc:0.669106\n",
      "[21]\ttrain-auc:0.6726\tvalidation-auc:0.669877\n",
      "[22]\ttrain-auc:0.673927\tvalidation-auc:0.67315\n",
      "[23]\ttrain-auc:0.673762\tvalidation-auc:0.674881\n",
      "[24]\ttrain-auc:0.675318\tvalidation-auc:0.667831\n",
      "[25]\ttrain-auc:0.674686\tvalidation-auc:0.664369\n",
      "[26]\ttrain-auc:0.674187\tvalidation-auc:0.665124\n",
      "[27]\ttrain-auc:0.673478\tvalidation-auc:0.664212\n",
      "[28]\ttrain-auc:0.673868\tvalidation-auc:0.66525\n",
      "[29]\ttrain-auc:0.673095\tvalidation-auc:0.664715\n",
      "[30]\ttrain-auc:0.673229\tvalidation-auc:0.665565\n",
      "[31]\ttrain-auc:0.672235\tvalidation-auc:0.665345\n",
      "[32]\ttrain-auc:0.672533\tvalidation-auc:0.666258\n",
      "[33]\ttrain-auc:0.6726\tvalidation-auc:0.666824\n",
      "[34]\ttrain-auc:0.672712\tvalidation-auc:0.669908\n",
      "[35]\ttrain-auc:0.672375\tvalidation-auc:0.671923\n",
      "[36]\ttrain-auc:0.671859\tvalidation-auc:0.670632\n",
      "[37]\ttrain-auc:0.670651\tvalidation-auc:0.671167\n",
      "[38]\ttrain-auc:0.671287\tvalidation-auc:0.671608\n",
      "[39]\ttrain-auc:0.670269\tvalidation-auc:0.671576\n",
      "[40]\ttrain-auc:0.670514\tvalidation-auc:0.671923\n",
      "[41]\ttrain-auc:0.670002\tvalidation-auc:0.672898\n",
      "[42]\ttrain-auc:0.671196\tvalidation-auc:0.673622\n",
      "[43]\ttrain-auc:0.670992\tvalidation-auc:0.675794\n",
      "[44]\ttrain-auc:0.669861\tvalidation-auc:0.675888\n",
      "[45]\ttrain-auc:0.669939\tvalidation-auc:0.674661\n",
      "[46]\ttrain-auc:0.671798\tvalidation-auc:0.674267\n",
      "[47]\ttrain-auc:0.672037\tvalidation-auc:0.674142\n",
      "[48]\ttrain-auc:0.671717\tvalidation-auc:0.674142\n",
      "[49]\ttrain-auc:0.672482\tvalidation-auc:0.671718\n",
      "[50]\ttrain-auc:0.674084\tvalidation-auc:0.672001\n",
      "[51]\ttrain-auc:0.673385\tvalidation-auc:0.672395\n",
      "[52]\ttrain-auc:0.673796\tvalidation-auc:0.672631\n",
      "[53]\ttrain-auc:0.675075\tvalidation-auc:0.670711\n",
      "[54]\ttrain-auc:0.676663\tvalidation-auc:0.672568\n",
      "[55]\ttrain-auc:0.676578\tvalidation-auc:0.673386\n",
      "[56]\ttrain-auc:0.675925\tvalidation-auc:0.672757\n",
      "[57]\ttrain-auc:0.675616\tvalidation-auc:0.67304\n",
      "[58]\ttrain-auc:0.676255\tvalidation-auc:0.673575\n",
      "[59]\ttrain-auc:0.676533\tvalidation-auc:0.671152\n",
      "[60]\ttrain-auc:0.676206\tvalidation-auc:0.6709\n",
      "[61]\ttrain-auc:0.67602\tvalidation-auc:0.671781\n",
      "[62]\ttrain-auc:0.677254\tvalidation-auc:0.673087\n",
      "[63]\ttrain-auc:0.678671\tvalidation-auc:0.674315\n",
      "[64]\ttrain-auc:0.679342\tvalidation-auc:0.671907\n",
      "[65]\ttrain-auc:0.678745\tvalidation-auc:0.671419\n",
      "[66]\ttrain-auc:0.679412\tvalidation-auc:0.672049\n",
      "[67]\ttrain-auc:0.679821\tvalidation-auc:0.672946\n",
      "[68]\ttrain-auc:0.679709\tvalidation-auc:0.672442\n",
      "[69]\ttrain-auc:0.680362\tvalidation-auc:0.671372\n",
      "[70]\ttrain-auc:0.680179\tvalidation-auc:0.671592\n",
      "[71]\ttrain-auc:0.680363\tvalidation-auc:0.67389\n",
      "[72]\ttrain-auc:0.68174\tvalidation-auc:0.673229\n",
      "[73]\ttrain-auc:0.682133\tvalidation-auc:0.67282\n",
      "[74]\ttrain-auc:0.682066\tvalidation-auc:0.672757\n",
      "[75]\ttrain-auc:0.681792\tvalidation-auc:0.672725\n",
      "[76]\ttrain-auc:0.682558\tvalidation-auc:0.671309\n",
      "[77]\ttrain-auc:0.682437\tvalidation-auc:0.671089\n",
      "[78]\ttrain-auc:0.682133\tvalidation-auc:0.67068\n",
      "[79]\ttrain-auc:0.681548\tvalidation-auc:0.671451\n",
      "[80]\ttrain-auc:0.681261\tvalidation-auc:0.671262\n",
      "[81]\ttrain-auc:0.681871\tvalidation-auc:0.673433\n",
      "[82]\ttrain-auc:0.682525\tvalidation-auc:0.672175\n",
      "[83]\ttrain-auc:0.68184\tvalidation-auc:0.671828\n",
      "[84]\ttrain-auc:0.68172\tvalidation-auc:0.670538\n",
      "[85]\ttrain-auc:0.682019\tvalidation-auc:0.671576\n",
      "[86]\ttrain-auc:0.682405\tvalidation-auc:0.671954\n",
      "[87]\ttrain-auc:0.682159\tvalidation-auc:0.671608\n",
      "[88]\ttrain-auc:0.682068\tvalidation-auc:0.671514\n",
      "[89]\ttrain-auc:0.681594\tvalidation-auc:0.670349\n",
      "[90]\ttrain-auc:0.680913\tvalidation-auc:0.668649\n",
      "[91]\ttrain-auc:0.681327\tvalidation-auc:0.667894\n",
      "[92]\ttrain-auc:0.680841\tvalidation-auc:0.668099\n",
      "[93]\ttrain-auc:0.681178\tvalidation-auc:0.668634\n",
      "[94]\ttrain-auc:0.682084\tvalidation-auc:0.66983\n",
      "[95]\ttrain-auc:0.682432\tvalidation-auc:0.669546\n",
      "[96]\ttrain-auc:0.6826\tvalidation-auc:0.669232\n",
      "[97]\ttrain-auc:0.68267\tvalidation-auc:0.66983\n",
      "[98]\ttrain-auc:0.682684\tvalidation-auc:0.669956\n",
      "[99]\ttrain-auc:0.682344\tvalidation-auc:0.669609\n",
      "[100]\ttrain-auc:0.682375\tvalidation-auc:0.670239\n",
      "[101]\ttrain-auc:0.682495\tvalidation-auc:0.671954\n",
      "[102]\ttrain-auc:0.682948\tvalidation-auc:0.672741\n",
      "[103]\ttrain-auc:0.683485\tvalidation-auc:0.672395\n",
      "[104]\ttrain-auc:0.683474\tvalidation-auc:0.672143\n",
      "[105]\ttrain-auc:0.683306\tvalidation-auc:0.673213\n",
      "[106]\ttrain-auc:0.683878\tvalidation-auc:0.673056\n",
      "[107]\ttrain-auc:0.684103\tvalidation-auc:0.67337\n",
      "[108]\ttrain-auc:0.683864\tvalidation-auc:0.673339\n",
      "[109]\ttrain-auc:0.683822\tvalidation-auc:0.67378\n",
      "[110]\ttrain-auc:0.683998\tvalidation-auc:0.673843\n",
      "[111]\ttrain-auc:0.683927\tvalidation-auc:0.675668\n",
      "[112]\ttrain-auc:0.68417\tvalidation-auc:0.675857\n",
      "[113]\ttrain-auc:0.683941\tvalidation-auc:0.676392\n",
      "[114]\ttrain-auc:0.684099\tvalidation-auc:0.676235\n",
      "[115]\ttrain-auc:0.683755\tvalidation-auc:0.676203\n",
      "[116]\ttrain-auc:0.683854\tvalidation-auc:0.676581\n",
      "[117]\ttrain-auc:0.683899\tvalidation-auc:0.675448\n",
      "[118]\ttrain-auc:0.683825\tvalidation-auc:0.676392\n",
      "[119]\ttrain-auc:0.683713\tvalidation-auc:0.676329\n",
      "[120]\ttrain-auc:0.683348\tvalidation-auc:0.676581\n",
      "[121]\ttrain-auc:0.683215\tvalidation-auc:0.676707\n",
      "[122]\ttrain-auc:0.683074\tvalidation-auc:0.676518\n",
      "[123]\ttrain-auc:0.683882\tvalidation-auc:0.676864\n",
      "[124]\ttrain-auc:0.684696\tvalidation-auc:0.676518\n",
      "[125]\ttrain-auc:0.684703\tvalidation-auc:0.677053\n",
      "[126]\ttrain-auc:0.685325\tvalidation-auc:0.677525\n",
      "[127]\ttrain-auc:0.685462\tvalidation-auc:0.677336\n",
      "[128]\ttrain-auc:0.685535\tvalidation-auc:0.676518\n",
      "[129]\ttrain-auc:0.685363\tvalidation-auc:0.677462\n",
      "[130]\ttrain-auc:0.685653\tvalidation-auc:0.678501\n",
      "[131]\ttrain-auc:0.685323\tvalidation-auc:0.67902\n",
      "[132]\ttrain-auc:0.685193\tvalidation-auc:0.67902\n",
      "[133]\ttrain-auc:0.685147\tvalidation-auc:0.678957\n",
      "[134]\ttrain-auc:0.685281\tvalidation-auc:0.679461\n",
      "[135]\ttrain-auc:0.68513\tvalidation-auc:0.679461\n",
      "[136]\ttrain-auc:0.685284\tvalidation-auc:0.678926\n",
      "[137]\ttrain-auc:0.6852\tvalidation-auc:0.679303\n",
      "[138]\ttrain-auc:0.684902\tvalidation-auc:0.67924\n",
      "[139]\ttrain-auc:0.68519\tvalidation-auc:0.67924\n",
      "[140]\ttrain-auc:0.684888\tvalidation-auc:0.679335\n",
      "[141]\ttrain-auc:0.684831\tvalidation-auc:0.679681\n",
      "[142]\ttrain-auc:0.684709\tvalidation-auc:0.679492\n",
      "[143]\ttrain-auc:0.684723\tvalidation-auc:0.681003\n",
      "[144]\ttrain-auc:0.684593\tvalidation-auc:0.680751\n",
      "[145]\ttrain-auc:0.684823\tvalidation-auc:0.680641\n",
      "[146]\ttrain-auc:0.685118\tvalidation-auc:0.680106\n",
      "[147]\ttrain-auc:0.685302\tvalidation-auc:0.680468\n",
      "[148]\ttrain-auc:0.68506\tvalidation-auc:0.680971\n",
      "[149]\ttrain-auc:0.684984\tvalidation-auc:0.680436\n",
      "[150]\ttrain-auc:0.684723\tvalidation-auc:0.680342\n",
      "[151]\ttrain-auc:0.684733\tvalidation-auc:0.679681\n",
      "[152]\ttrain-auc:0.684975\tvalidation-auc:0.679177\n",
      "[153]\ttrain-auc:0.684951\tvalidation-auc:0.67987\n",
      "[154]\ttrain-auc:0.685202\tvalidation-auc:0.679272\n",
      "[155]\ttrain-auc:0.685383\tvalidation-auc:0.680342\n",
      "[156]\ttrain-auc:0.685256\tvalidation-auc:0.680153\n",
      "[157]\ttrain-auc:0.685239\tvalidation-auc:0.680342\n",
      "[158]\ttrain-auc:0.685411\tvalidation-auc:0.679618\n",
      "[159]\ttrain-auc:0.684986\tvalidation-auc:0.67987\n",
      "[160]\ttrain-auc:0.685263\tvalidation-auc:0.680184\n",
      "[161]\ttrain-auc:0.685032\tvalidation-auc:0.679492\n",
      "[162]\ttrain-auc:0.686006\tvalidation-auc:0.679964\n",
      "[163]\ttrain-auc:0.685844\tvalidation-auc:0.67987\n",
      "[164]\ttrain-auc:0.685823\tvalidation-auc:0.679272\n",
      "[165]\ttrain-auc:0.685613\tvalidation-auc:0.679335\n",
      "[166]\ttrain-auc:0.685929\tvalidation-auc:0.679712\n",
      "[167]\ttrain-auc:0.686182\tvalidation-auc:0.680059\n",
      "[168]\ttrain-auc:0.686333\tvalidation-auc:0.679523\n",
      "[169]\ttrain-auc:0.686322\tvalidation-auc:0.68031\n",
      "[170]\ttrain-auc:0.686561\tvalidation-auc:0.679461\n",
      "[171]\ttrain-auc:0.686975\tvalidation-auc:0.679303\n",
      "[172]\ttrain-auc:0.686807\tvalidation-auc:0.679335\n",
      "[173]\ttrain-auc:0.687514\tvalidation-auc:0.677934\n",
      "[174]\ttrain-auc:0.687468\tvalidation-auc:0.678501\n",
      "[175]\ttrain-auc:0.687142\tvalidation-auc:0.678626\n",
      "[176]\ttrain-auc:0.68718\tvalidation-auc:0.678784\n",
      "[177]\ttrain-auc:0.687096\tvalidation-auc:0.678752\n",
      "[178]\ttrain-auc:0.686984\tvalidation-auc:0.678249\n",
      "[179]\ttrain-auc:0.686966\tvalidation-auc:0.678595\n",
      "[180]\ttrain-auc:0.687212\tvalidation-auc:0.678626\n",
      "[181]\ttrain-auc:0.687261\tvalidation-auc:0.679319\n",
      "[182]\ttrain-auc:0.687338\tvalidation-auc:0.680169\n",
      "[183]\ttrain-auc:0.687475\tvalidation-auc:0.67998\n",
      "[184]\ttrain-auc:0.687324\tvalidation-auc:0.679697\n",
      "[185]\ttrain-auc:0.68717\tvalidation-auc:0.679193\n",
      "[186]\ttrain-auc:0.686952\tvalidation-auc:0.678941\n",
      "[187]\ttrain-auc:0.686728\tvalidation-auc:0.678438\n",
      "[188]\ttrain-auc:0.686952\tvalidation-auc:0.678186\n",
      "[189]\ttrain-auc:0.686815\tvalidation-auc:0.678123\n",
      "[190]\ttrain-auc:0.687005\tvalidation-auc:0.67828\n",
      "[191]\ttrain-auc:0.686879\tvalidation-auc:0.678438\n",
      "[192]\ttrain-auc:0.686901\tvalidation-auc:0.67828\n",
      "[193]\ttrain-auc:0.686905\tvalidation-auc:0.678343\n",
      "[194]\ttrain-auc:0.686884\tvalidation-auc:0.677745\n",
      "[195]\ttrain-auc:0.686901\tvalidation-auc:0.677273\n",
      "[196]\ttrain-auc:0.687105\tvalidation-auc:0.677053\n",
      "[197]\ttrain-auc:0.687024\tvalidation-auc:0.677147\n",
      "[198]\ttrain-auc:0.687031\tvalidation-auc:0.67677\n",
      "[199]\ttrain-auc:0.686926\tvalidation-auc:0.677556\n",
      "[200]\ttrain-auc:0.687017\tvalidation-auc:0.677021\n",
      "[201]\ttrain-auc:0.686771\tvalidation-auc:0.677588\n",
      "[202]\ttrain-auc:0.686856\tvalidation-auc:0.677273\n",
      "[203]\ttrain-auc:0.686842\tvalidation-auc:0.677462\n",
      "[204]\ttrain-auc:0.686912\tvalidation-auc:0.677336\n",
      "[205]\ttrain-auc:0.686807\tvalidation-auc:0.677556\n",
      "[206]\ttrain-auc:0.686901\tvalidation-auc:0.677871\n",
      "[207]\ttrain-auc:0.686757\tvalidation-auc:0.678029\n",
      "[208]\ttrain-auc:0.686677\tvalidation-auc:0.677871\n",
      "[209]\ttrain-auc:0.686715\tvalidation-auc:0.677808\n",
      "[210]\ttrain-auc:0.686557\tvalidation-auc:0.677777\n",
      "[211]\ttrain-auc:0.686547\tvalidation-auc:0.677588\n",
      "[212]\ttrain-auc:0.687238\tvalidation-auc:0.678626\n",
      "[213]\ttrain-auc:0.687179\tvalidation-auc:0.677997\n",
      "[214]\ttrain-auc:0.687249\tvalidation-auc:0.677871\n",
      "[215]\ttrain-auc:0.687182\tvalidation-auc:0.677903\n",
      "[216]\ttrain-auc:0.687375\tvalidation-auc:0.678312\n",
      "[217]\ttrain-auc:0.687695\tvalidation-auc:0.678941\n",
      "[218]\ttrain-auc:0.687502\tvalidation-auc:0.678532\n",
      "[219]\ttrain-auc:0.687502\tvalidation-auc:0.678784\n",
      "[220]\ttrain-auc:0.687618\tvalidation-auc:0.678626\n",
      "[221]\ttrain-auc:0.68773\tvalidation-auc:0.678469\n",
      "[222]\ttrain-auc:0.688281\tvalidation-auc:0.677336\n",
      "[223]\ttrain-auc:0.688164\tvalidation-auc:0.677352\n",
      "[224]\ttrain-auc:0.687927\tvalidation-auc:0.677572\n",
      "[225]\ttrain-auc:0.687941\tvalidation-auc:0.67795\n",
      "[226]\ttrain-auc:0.688285\tvalidation-auc:0.678139\n",
      "[227]\ttrain-auc:0.68809\tvalidation-auc:0.678485\n",
      "[228]\ttrain-auc:0.688385\tvalidation-auc:0.6788\n",
      "[229]\ttrain-auc:0.688631\tvalidation-auc:0.67839\n",
      "[230]\ttrain-auc:0.68875\tvalidation-auc:0.678988\n",
      "[231]\ttrain-auc:0.688697\tvalidation-auc:0.679146\n",
      "[232]\ttrain-auc:0.68861\tvalidation-auc:0.679051\n",
      "[233]\ttrain-auc:0.688455\tvalidation-auc:0.678863\n",
      "[234]\ttrain-auc:0.688525\tvalidation-auc:0.678453\n",
      "[235]\ttrain-auc:0.689048\tvalidation-auc:0.678013\n",
      "[236]\ttrain-auc:0.688897\tvalidation-auc:0.677509\n",
      "[237]\ttrain-auc:0.688843\tvalidation-auc:0.677682\n",
      "[238]\ttrain-auc:0.688797\tvalidation-auc:0.677572\n",
      "[239]\ttrain-auc:0.688801\tvalidation-auc:0.677604\n",
      "[240]\ttrain-auc:0.6893\tvalidation-auc:0.678233\n",
      "[241]\ttrain-auc:0.689271\tvalidation-auc:0.67839\n",
      "[242]\ttrain-auc:0.689208\tvalidation-auc:0.678579\n",
      "[243]\ttrain-auc:0.689268\tvalidation-auc:0.678705\n",
      "Stopping. Best iteration:\n",
      "[143]\ttrain-auc:0.684723\tvalidation-auc:0.681003\n",
      "\n"
     ]
    }
   ],
   "source": [
    "first_model = xgb.train(\n",
    "    params=par,\n",
    "    dtrain=d_train,\n",
    "    num_boost_round=6000,\n",
    "    evals=watch_list,\n",
    "    early_stopping_rounds=100\n",
    "    )\n"
   ]
  },
  {
   "cell_type": "code",
   "execution_count": 64,
   "metadata": {},
   "outputs": [],
   "source": [
    "# Should i use validation or train?"
   ]
  },
  {
   "cell_type": "markdown",
   "metadata": {},
   "source": [
    "# Find Max Depth and Min Child Weight"
   ]
  },
  {
   "cell_type": "code",
   "execution_count": 65,
   "metadata": {},
   "outputs": [
    {
     "ename": "SyntaxError",
     "evalue": "invalid syntax (<ipython-input-65-155dd931e5b2>, line 1)",
     "output_type": "error",
     "traceback": [
      "\u001b[0;36m  File \u001b[0;32m\"<ipython-input-65-155dd931e5b2>\"\u001b[0;36m, line \u001b[0;32m1\u001b[0m\n\u001b[0;31m    \"eta\": 0.01,\u001b[0m\n\u001b[0m         ^\u001b[0m\n\u001b[0;31mSyntaxError\u001b[0m\u001b[0;31m:\u001b[0m invalid syntax\n"
     ]
    }
   ],
   "source": [
    "   \"eta\": 0.01,\n",
    "    \"max_depth\":3,\n",
    "    \"base_score\":0.5,\n",
    "    \"n_estimators\":5000,\n",
    "    \"n_jobs\":-1,\n",
    "    \"subsample\": 0.8,\n",
    "    \"colsample_bytree\": 1,\n",
    "    \"gamma\": 1,\n",
    "    \"objective\" : 'binary:logistic',\n",
    "    \"eval_metric\" :'auc'}"
   ]
  },
  {
   "cell_type": "code",
   "execution_count": 74,
   "metadata": {},
   "outputs": [
    {
     "data": {
      "text/plain": [
       "GridSearchCV(cv=3, error_score='raise-deprecating',\n",
       "       estimator=XGBClassifier(base_score=0.5, booster='gbtree', colsample_bylevel=1,\n",
       "       colsample_bytree=1, gamma=1, learning_rate=0.01, max_delta_step=0,\n",
       "       max_depth=3, min_child_weight=1, missing=None, n_estimators=755,\n",
       "       n_jobs=-1, nthread=None, objective='binary:logistic',\n",
       "       random_state=0, reg_alpha=0, reg_lambda=1, scale_pos_weight=1,\n",
       "       seed=2019, silent=True, subsample=0.8),\n",
       "       fit_params=None, iid=False, n_jobs=-1,\n",
       "       param_grid={'max_depth': [1, 2, 3, 4], 'min_child_weight': [10, 12, 14, 16]},\n",
       "       pre_dispatch='2*n_jobs', refit=True, return_train_score='warn',\n",
       "       scoring='roc_auc', verbose=0)"
      ]
     },
     "execution_count": 74,
     "metadata": {},
     "output_type": "execute_result"
    }
   ],
   "source": [
    "param_test1 = {\n",
    " 'max_depth':[1,2,3,4],\n",
    " 'min_child_weight':[10,12,14,16]\n",
    "}\n",
    "\n",
    "gsearch1 = GridSearchCV(\n",
    "    estimator = XGBClassifier(\n",
    "        learning_rate =0.01, \n",
    "        max_depth=3,\n",
    "        subsample=0.8, \n",
    "        colsample_bytree=1,\n",
    "        gamma=1, \n",
    "        objective= 'binary:logistic', \n",
    "        n_jobs=-1, \n",
    "        seed=2019,\n",
    "        n_estimators=755, ),\n",
    "    \n",
    "    param_grid = param_test1, \n",
    "    scoring='roc_auc',\n",
    "    n_jobs=-1,\n",
    "    iid=False, \n",
    "    cv=3)\n",
    "\n",
    "gsearch1.fit(preprocessed_train_set, train_target)"
   ]
  },
  {
   "cell_type": "code",
   "execution_count": 75,
   "metadata": {},
   "outputs": [
    {
     "name": "stdout",
     "output_type": "stream",
     "text": [
      "{'max_depth': 1, 'min_child_weight': 12}\n",
      "0.6505021292369021\n"
     ]
    }
   ],
   "source": [
    "print(gsearch1.best_params_)\n",
    "print(gsearch1.best_score_)"
   ]
  },
  {
   "cell_type": "markdown",
   "metadata": {},
   "source": [
    "# Tune Gamma"
   ]
  },
  {
   "cell_type": "code",
   "execution_count": 76,
   "metadata": {},
   "outputs": [
    {
     "data": {
      "text/plain": [
       "[0.0, 0.1, 0.2, 0.3, 0.4]"
      ]
     },
     "execution_count": 76,
     "metadata": {},
     "output_type": "execute_result"
    }
   ],
   "source": [
    "[i/10.0 for i in range(0,5)]"
   ]
  },
  {
   "cell_type": "code",
   "execution_count": 82,
   "metadata": {},
   "outputs": [
    {
     "data": {
      "text/plain": [
       "GridSearchCV(cv=5, error_score='raise-deprecating',\n",
       "       estimator=XGBClassifier(base_score=0.5, booster='gbtree', colsample_bylevel=1,\n",
       "       colsample_bytree=1, gamma=1, learning_rate=0.01, max_delta_step=0,\n",
       "       max_depth=1, min_child_weight=12, missing=None, n_estimators=755,\n",
       "       n_jobs=-1, nthread=None, objective='binary:logistic',\n",
       "       random_state=0, reg_alpha=0, reg_lambda=1, scale_pos_weight=1,\n",
       "       seed=2019, silent=True, subsample=0.8),\n",
       "       fit_params=None, iid=False, n_jobs=-1,\n",
       "       param_grid={'gamma': [0.0, 0.1, 0.2, 0.3, 0.4]},\n",
       "       pre_dispatch='2*n_jobs', refit=True, return_train_score='warn',\n",
       "       scoring='roc_auc', verbose=0)"
      ]
     },
     "execution_count": 82,
     "metadata": {},
     "output_type": "execute_result"
    }
   ],
   "source": [
    "param_test2 = {\n",
    " 'gamma':[i/10.0 for i in range(0,5)]\n",
    "}\n",
    "gsearch2 = GridSearchCV(\n",
    "    estimator = XGBClassifier(\n",
    "        learning_rate =0.01, \n",
    "        max_depth=1,\n",
    "        subsample=0.8, \n",
    "        colsample_bytree=1,\n",
    "        gamma=1, \n",
    "        min_child_weight= 12,\n",
    "        objective= 'binary:logistic', \n",
    "        n_jobs=-1, \n",
    "        seed=2019,\n",
    "        n_estimators=755, ),\n",
    "    \n",
    "    param_grid = param_test2, \n",
    "    scoring='roc_auc',\n",
    "    n_jobs=-1,\n",
    "    iid=False, \n",
    "    cv=5)\n",
    "\n",
    "gsearch2.fit(preprocessed_train_set, train_target)"
   ]
  },
  {
   "cell_type": "code",
   "execution_count": 83,
   "metadata": {},
   "outputs": [
    {
     "name": "stdout",
     "output_type": "stream",
     "text": [
      "{'gamma': 0.0}\n",
      "0.655203346658076\n"
     ]
    }
   ],
   "source": [
    "print(gsearch2.best_params_)\n",
    "print(gsearch2.best_score_)"
   ]
  },
  {
   "cell_type": "markdown",
   "metadata": {},
   "source": [
    "# Subsamble and  colsample_bytree"
   ]
  },
  {
   "cell_type": "code",
   "execution_count": 115,
   "metadata": {},
   "outputs": [
    {
     "data": {
      "text/plain": [
       "GridSearchCV(cv=5, error_score='raise-deprecating',\n",
       "       estimator=XGBClassifier(base_score=0.5, booster='gbtree', colsample_bylevel=1,\n",
       "       colsample_bytree=1, gamma=1, learning_rate=0.01, max_delta_step=0,\n",
       "       max_depth=1, min_child_weight=12, missing=None, n_estimators=319,\n",
       "       n_jobs=-1, nthread=None, objective='binary:logistic',\n",
       "       random_state=0, reg_alpha=0, reg_lambda=1, scale_pos_weight=1,\n",
       "       seed=2019, silent=True, subsample=0.8),\n",
       "       fit_params=None, iid=False, n_jobs=-1,\n",
       "       param_grid={'subsample': [0.6, 0.7, 0.8, 0.9], 'colsample_bytree': [0.6, 0.7, 0.8, 0.9]},\n",
       "       pre_dispatch='2*n_jobs', refit=True, return_train_score='warn',\n",
       "       scoring='roc_auc', verbose=0)"
      ]
     },
     "execution_count": 115,
     "metadata": {},
     "output_type": "execute_result"
    }
   ],
   "source": [
    "param_test3 = {\n",
    " 'subsample':[i/10.0 for i in range(6,10)],\n",
    " 'colsample_bytree':[i/10.0 for i in range(6,10)]\n",
    "}\n",
    "\n",
    "gsearch3 = GridSearchCV(\n",
    "    estimator = XGBClassifier(\n",
    "        learning_rate =0.01, \n",
    "        max_depth=1,\n",
    "        subsample=0.8, \n",
    "        colsample_bytree=1,\n",
    "        gamma=1, \n",
    "        min_child_weight= 12,\n",
    "        objective= 'binary:logistic', \n",
    "        n_jobs=-1, \n",
    "        seed=2019,\n",
    "        n_estimators=319, ),\n",
    "    \n",
    "    param_grid = param_test3, \n",
    "    scoring='roc_auc',\n",
    "    n_jobs=-1,\n",
    "    iid=False, \n",
    "    cv=5)\n",
    "\n",
    "gsearch3.fit(preprocessed_train_set, train_target)"
   ]
  },
  {
   "cell_type": "code",
   "execution_count": 116,
   "metadata": {},
   "outputs": [
    {
     "name": "stdout",
     "output_type": "stream",
     "text": [
      "{'subsample': 0.8, 'colsample_bytree': 0.8}\n",
      "0.6596705070561094\n"
     ]
    }
   ],
   "source": [
    "print(gsearch3.best_params_)\n",
    "print(gsearch3.best_score_)"
   ]
  },
  {
   "cell_type": "code",
   "execution_count": null,
   "metadata": {},
   "outputs": [],
   "source": []
  }
 ],
 "metadata": {
  "kernelspec": {
   "display_name": "Python 2",
   "language": "python",
   "name": "python2"
  },
  "language_info": {
   "codemirror_mode": {
    "name": "ipython",
    "version": 2
   },
   "file_extension": ".py",
   "mimetype": "text/x-python",
   "name": "python",
   "nbconvert_exporter": "python",
   "pygments_lexer": "ipython2",
   "version": "2.7.16"
  }
 },
 "nbformat": 4,
 "nbformat_minor": 2
}
